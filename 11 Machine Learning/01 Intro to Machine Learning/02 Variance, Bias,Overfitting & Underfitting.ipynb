{
 "cells": [
  {
   "cell_type": "markdown",
   "metadata": {},
   "source": [
    "[<img src=\"https://user-images.githubusercontent.com/104052797/227734220-c880c683-a61d-41d7-8595-017d1feae370.jpg\" alt=\"Pankaj Kumar Yadav\" style=\"width: 300px; height: auto;\">](https://www.linkedin.com/in/pankaj-kr-yadav/) &copy; 2024 `Pankaj Kumar Yadav`. All rights reserved.\n",
    "\n",
    "----"
   ]
  },
  {
   "cell_type": "markdown",
   "metadata": {},
   "source": [
    "# 📍 02 Introduction to Machine Learning-2 📍"
   ]
  },
  {
   "cell_type": "markdown",
   "metadata": {},
   "source": [
    "![purple-divider](https://user-images.githubusercontent.com/7065401/52071927-c1cd7100-2562-11e9-908a-dde91ba14e59.png)"
   ]
  },
  {
   "cell_type": "markdown",
   "metadata": {},
   "source": [
    "# Q1: Define overfitting and underfitting in machine learning. What are the consequences of each, and how can they be mitigated?"
   ]
  },
  {
   "cell_type": "markdown",
   "metadata": {},
   "source": [
    "## Answer:-\n",
    "\n",
    "### Overfitting and Underfitting in Machine Learning\n",
    "\n",
    "#### Overfitting\n",
    "\n",
    "**Definition:**  \n",
    "Overfitting occurs when a machine learning model learns the training data too well, capturing noise and details that do not generalize to unseen data. This happens when the model is too complex relative to the amount of data available.\n",
    "\n",
    "**Consequences:**\n",
    "- **Poor Generalization:** The model performs exceptionally well on the training data but poorly on new, unseen data.\n",
    "- **High Variance:** The model’s predictions can vary significantly for different datasets, making it unreliable.\n",
    "\n",
    "**Mitigation Strategies:**\n",
    "1. **Simplify the Model:** Reduce the complexity of the model by decreasing the number of parameters or using a simpler algorithm.\n",
    "2. **Regularization:** Apply techniques like L1 (Lasso) or L2 (Ridge) regularization, which add a penalty to the model's complexity.\n",
    "3. **Cross-Validation:** Use cross-validation techniques to ensure that the model's performance is consistent across different subsets of the data.\n",
    "4. **Pruning:** In decision trees, prune the tree to remove nodes that provide little power in predicting target variables.\n",
    "5. **Ensemble Methods:** Use ensemble techniques like bagging and boosting that combine multiple models to improve generalization.\n",
    "\n",
    "#### Underfitting\n",
    "\n",
    "**Definition:**  \n",
    "Underfitting occurs when a machine learning model is too simple to capture the underlying patterns in the data. This usually happens when the model has too few parameters relative to the complexity of the data.\n",
    "\n",
    "**Consequences:**\n",
    "- **Poor Performance:** The model performs poorly on both the training data and unseen data, failing to capture important patterns.\n",
    "- **High Bias:** The model makes strong assumptions about the data, leading to systematic errors.\n",
    "\n",
    "**Mitigation Strategies:**\n",
    "1. **Increase Model Complexity:** Use a more complex model or add more parameters to better capture the underlying patterns.\n",
    "2. **Feature Engineering:** Create new features or use more relevant features that help the model learn better.\n",
    "3. **Reduce Noise:** Ensure the data is clean and preprocessed properly to reduce noise that might mislead the model.\n",
    "4. **Increase Training Time:** Train the model for a longer period or use more sophisticated training techniques.\n",
    "5. **Use Better Algorithms:** Switch to more powerful algorithms that are capable of capturing complex relationships in the data.\n",
    "\n",
    "### Summary\n",
    "\n",
    "- **Overfitting** happens when the model learns the training data too well, including noise, leading to poor generalization on new data. It can be mitigated by simplifying the model, using regularization, cross-validation, pruning, and ensemble methods.\n",
    "- **Underfitting** occurs when the model is too simple to capture the underlying patterns, resulting in poor performance on both training and unseen data. Mitigation involves increasing model complexity, better feature engineering, reducing noise, increasing training time, and using more powerful algorithms.\n",
    "\n",
    "Balancing the complexity of the model to achieve good performance on both the training and validation datasets is key to developing effective machine learning models.\n"
   ]
  },
  {
   "cell_type": "markdown",
   "metadata": {},
   "source": [
    "![green-divider](https://user-images.githubusercontent.com/7065401/52071924-c003ad80-2562-11e9-8297-1c6595f8a7ff.png)"
   ]
  },
  {
   "cell_type": "markdown",
   "metadata": {},
   "source": [
    " # Q2: How can we reduce overfitting? Explain in brief."
   ]
  },
  {
   "cell_type": "markdown",
   "metadata": {},
   "source": [
    "## Answer:- \n",
    "\n",
    "### How to Reduce Overfitting\n",
    "\n",
    "Reducing overfitting in a machine learning model involves implementing techniques to improve its generalization to new, unseen data. Here are some brief strategies to achieve this:\n",
    "\n",
    "1. **Simplify the Model:**\n",
    "   - Use a less complex model with fewer parameters to prevent it from learning noise in the training data.\n",
    "\n",
    "2. **Regularization:**\n",
    "   - Apply regularization techniques such as L1 (Lasso) or L2 (Ridge) regularization, which add a penalty for larger coefficients in the model, encouraging simpler models.\n",
    "\n",
    "3. **Cross-Validation:**\n",
    "   - Use k-fold cross-validation to ensure that the model performs well on different subsets of the data, thus improving its generalization.\n",
    "\n",
    "4. **Pruning (for Decision Trees):**\n",
    "   - Remove sections of the tree that provide little power in predicting the target variable to prevent the model from becoming too complex.\n",
    "\n",
    "5. **Ensemble Methods:**\n",
    "   - Combine predictions from multiple models (e.g., bagging, boosting, stacking) to improve overall performance and reduce the risk of overfitting.\n",
    "\n",
    "6. **Early Stopping:**\n",
    "   - During training, monitor the performance on a validation set and stop training when performance starts to degrade, which prevents the model from learning noise.\n",
    "\n",
    "7. **Increase Training Data:**\n",
    "   - Collect more data to provide the model with a better representation of the underlying patterns, helping it generalize better.\n",
    "\n",
    "8. **Data Augmentation:**\n",
    "   - Generate additional training examples by augmenting existing data (e.g., rotating, flipping images) to artificially increase the size of the training set.\n",
    "\n",
    "9. **Dropout (for Neural Networks):**\n",
    "   - Randomly drop units (along with their connections) during training to prevent over-reliance on specific parts of the network, promoting robustness and generalization.\n",
    "\n",
    "Implementing these techniques can help develop models that generalize better to new data, reducing the risk of overfitting.\n"
   ]
  },
  {
   "cell_type": "markdown",
   "metadata": {},
   "source": [
    "![green-divider](https://user-images.githubusercontent.com/7065401/52071924-c003ad80-2562-11e9-8297-1c6595f8a7ff.png)"
   ]
  },
  {
   "cell_type": "markdown",
   "metadata": {},
   "source": [
    "# Q3: Explain underfitting. List scenarios where underfitting can occur in ML."
   ]
  },
  {
   "cell_type": "markdown",
   "metadata": {},
   "source": [
    "## Answer:-\n",
    "\n",
    "### Understanding Underfitting\n",
    "\n",
    "**Definition:**  \n",
    "Underfitting occurs when a machine learning model is too simple to capture the underlying patterns in the data. This typically happens when the model has insufficient complexity relative to the complexity of the data, resulting in poor performance on both the training data and unseen data.\n",
    "\n",
    "### Scenarios Where Underfitting Can Occur\n",
    "\n",
    "1. **Using a Linear Model for Non-Linear Data:**\n",
    "   - Applying a linear regression model to data that has a complex, non-linear relationship will lead to underfitting because the model cannot capture the underlying pattern.\n",
    "\n",
    "2. **Insufficient Model Complexity:**\n",
    "   - Choosing a model with too few parameters or a model that is too simple (e.g., using a single decision tree with a very shallow depth) can lead to underfitting as it may not capture the complexity of the data.\n",
    "\n",
    "3. **High Regularization:**\n",
    "   - Overly strong regularization (high values of L1 or L2 regularization) can overly penalize the model complexity, leading to an overly simplistic model that underfits the data.\n",
    "\n",
    "4. **Inadequate Training Time:**\n",
    "   - Training a model for too few epochs (in the case of neural networks) can result in underfitting, as the model does not learn the underlying patterns in the data sufficiently.\n",
    "\n",
    "5. **Insufficient Features:**\n",
    "   - Using too few features or using irrelevant features that do not capture the necessary information can lead to underfitting because the model lacks the necessary information to make accurate predictions.\n",
    "\n",
    "6. **Poor Feature Engineering:**\n",
    "   - Failing to engineer and select the right features that represent the underlying patterns in the data can lead to underfitting, as the model does not have the relevant information needed to learn effectively.\n",
    "\n",
    "7. **Too Much Noise in the Data:**\n",
    "   - If the data is very noisy or has a high level of irrelevant information, the model might fail to find the true underlying pattern, leading to underfitting.\n",
    "\n",
    "### Summary\n",
    "\n",
    "Underfitting is a critical issue in machine learning that occurs when a model is too simple to capture the data's underlying structure. It results in poor performance on both training and validation datasets. Addressing underfitting requires increasing model complexity, improving feature engineering, reducing noise, and ensuring adequate training.\n"
   ]
  },
  {
   "cell_type": "markdown",
   "metadata": {},
   "source": [
    "![green-divider](https://user-images.githubusercontent.com/7065401/52071924-c003ad80-2562-11e9-8297-1c6595f8a7ff.png)"
   ]
  },
  {
   "cell_type": "markdown",
   "metadata": {},
   "source": [
    "# Q4: Explain the bias-variance tradeoff in machine learning. What is the relationship between bias and variance, and how do they affect model performance?"
   ]
  },
  {
   "cell_type": "markdown",
   "metadata": {},
   "source": [
    "## Answer:- \n",
    "\n",
    "### Bias-Variance Tradeoff in Machine Learning\n",
    "\n",
    "**Definition:**  \n",
    "The bias-variance tradeoff is a fundamental concept in machine learning that describes the tradeoff between the error due to bias and the error due to variance. It reflects the balance between a model's ability to minimize errors and generalize to new data.\n",
    "\n",
    "### Bias and Variance Explained\n",
    "\n",
    "1. **Bias:**\n",
    "   - **Definition:** Bias is the error introduced by approximating a real-world problem, which may be complex, by a simplified model. High bias typically leads to systematic errors.\n",
    "   - **Effects:** A model with high bias pays little attention to the training data and oversimplifies the model. This can lead to underfitting, where the model misses relevant relations between features and target outputs.\n",
    "   \n",
    "2. **Variance:**\n",
    "   - **Definition:** Variance is the error introduced by the model's sensitivity to small fluctuations in the training data. High variance often captures noise as if it were a true signal.\n",
    "   - **Effects:** A model with high variance pays too much attention to the training data, capturing noise along with the underlying data patterns. This can lead to overfitting, where the model performs well on training data but poorly on unseen data.\n",
    "\n",
    "### Relationship Between Bias and Variance\n",
    "\n",
    "- **Inverse Relationship:** Generally, reducing bias increases variance and vice versa. Finding the right balance is crucial for building models that generalize well.\n",
    "- **Model Performance:** The total error of a model is the sum of bias squared, variance, and irreducible error (the noise inherent in any dataset).\n",
    "\n",
    "### How Bias and Variance Affect Model Performance\n",
    "\n",
    "1. **High Bias (Underfitting):**\n",
    "   - **Characteristics:** Simple models with insufficient capacity to learn from data.\n",
    "   - **Performance:** Poor performance on both training and test data due to systematic errors.\n",
    "   \n",
    "2. **High Variance (Overfitting):**\n",
    "   - **Characteristics:** Complex models that capture noise in the training data.\n",
    "   - **Performance:** Excellent performance on training data but poor generalization to test data, leading to high error on unseen data.\n",
    "\n",
    "### Managing the Bias-Variance Tradeoff\n",
    "\n",
    "1. **Model Selection:**\n",
    "   - Choose models with appropriate complexity. For instance, linear models might have high bias, while deep neural networks might have high variance.\n",
    "\n",
    "2. **Regularization:**\n",
    "   - Techniques like L1 and L2 regularization can help balance model complexity, reducing variance without significantly increasing bias.\n",
    "\n",
    "3. **Cross-Validation:**\n",
    "   - Use cross-validation techniques to estimate model performance on unseen data and adjust complexity accordingly.\n",
    "\n",
    "4. **Ensemble Methods:**\n",
    "   - Combining multiple models can reduce variance without increasing bias, improving generalization.\n",
    "\n",
    "5. **Feature Engineering:**\n",
    "   - Selecting relevant features and transforming data appropriately can help manage both bias and variance.\n",
    "\n",
    "### Summary\n",
    "\n",
    "The bias-variance tradeoff highlights the need to balance the complexity of a model to achieve optimal performance. High bias leads to underfitting, while high variance leads to overfitting. Understanding and managing this tradeoff is crucial for building effective machine learning models that generalize well to new data.\n"
   ]
  },
  {
   "cell_type": "markdown",
   "metadata": {},
   "source": [
    "![green-divider](https://user-images.githubusercontent.com/7065401/52071924-c003ad80-2562-11e9-8297-1c6595f8a7ff.png)"
   ]
  },
  {
   "cell_type": "markdown",
   "metadata": {},
   "source": [
    "# Q5: Discuss some common methods for detecting overfitting and underfitting in machine learning models. How can you determine whether your model is overfitting or underfitting?"
   ]
  },
  {
   "cell_type": "markdown",
   "metadata": {},
   "source": [
    "## Answer:- \n",
    "\n",
    "### Detecting Overfitting and Underfitting in Machine Learning Models\n",
    "\n",
    "Detecting whether a model is overfitting or underfitting is crucial for improving its performance. Here are some common methods for identifying these issues:\n",
    "\n",
    "#### Methods for Detecting Overfitting\n",
    "\n",
    "1. **Performance on Training vs. Validation Data:**\n",
    "   - **Overfitting Indication:** If the model performs significantly better on the training data than on the validation or test data, it is likely overfitting.\n",
    "\n",
    "2. **Learning Curves:**\n",
    "   - **Overfitting Indication:** A significant gap between the training and validation error curves. The training error is low while the validation error remains high.\n",
    "\n",
    "3. **Cross-Validation:**\n",
    "   - **Overfitting Indication:** Large variations in performance across different folds of cross-validation. High performance on some folds and poor on others indicate overfitting.\n",
    "\n",
    "4. **Complexity Analysis:**\n",
    "   - **Overfitting Indication:** Using overly complex models for the given amount of training data, such as deep neural networks with many layers on small datasets.\n",
    "\n",
    "#### Methods for Detecting Underfitting\n",
    "\n",
    "1. **Performance on Training Data:**\n",
    "   - **Underfitting Indication:** If the model performs poorly on both the training and validation data, it indicates underfitting.\n",
    "\n",
    "2. **Learning Curves:**\n",
    "   - **Underfitting Indication:** Both training and validation errors are high and close to each other, indicating the model is too simple to capture the underlying data patterns.\n",
    "\n",
    "3. **Error Analysis:**\n",
    "   - **Underfitting Indication:** High bias error in the model's predictions, meaning systematic errors are present regardless of the training data.\n",
    "\n",
    "4. **Complexity Analysis:**\n",
    "   - **Underfitting Indication:** Using models that are too simple relative to the complexity of the data, such as linear regression on highly non-linear data.\n",
    "\n",
    "### Determining Overfitting vs. Underfitting\n",
    "\n",
    "1. **Training vs. Validation Error Comparison:**\n",
    "   - **Overfitting:** Low training error and high validation error.\n",
    "   - **Underfitting:** High training error and high validation error.\n",
    "\n",
    "2. **Learning Curves Analysis:**\n",
    "   - **Overfitting:** Large gap between training and validation errors. Training error decreases significantly while validation error remains high or increases.\n",
    "   - **Underfitting:** Both training and validation errors are high and close, with little to no improvement over time.\n",
    "\n",
    "3. **Model Complexity and Data Fit:**\n",
    "   - **Overfitting:** The model is too complex for the amount of data, capturing noise rather than general patterns.\n",
    "   - **Underfitting:** The model is too simple to capture the underlying patterns, leading to systematic errors.\n",
    "\n",
    "4. **Cross-Validation Performance:**\n",
    "   - **Overfitting:** High variance in cross-validation results, indicating the model is not generalizing well.\n",
    "   - **Underfitting:** Consistently poor performance across all cross-validation folds.\n",
    "\n",
    "### Summary\n",
    "\n",
    "To determine if a model is overfitting or underfitting, one should compare training and validation errors, analyze learning curves, assess model complexity relative to the data, and perform cross-validation. Low training error coupled with high validation error suggests overfitting, while high errors in both training and validation suggest underfitting. Using these methods helps in diagnosing the model’s issues and guiding corrective actions.\n"
   ]
  },
  {
   "cell_type": "markdown",
   "metadata": {},
   "source": [
    "![green-divider](https://user-images.githubusercontent.com/7065401/52071924-c003ad80-2562-11e9-8297-1c6595f8a7ff.png)"
   ]
  },
  {
   "cell_type": "markdown",
   "metadata": {},
   "source": [
    "# Q6: Compare and contrast bias and variance in machine learning. What are some examples of high bias and high variance models, and how do they differ in terms of their performance?"
   ]
  },
  {
   "cell_type": "markdown",
   "metadata": {},
   "source": [
    "## Answer:-\n",
    "\n",
    "### Comparing and Contrasting Bias and Variance in Machine Learning\n",
    "\n",
    "**Bias and variance** are two key sources of error in machine learning models. Understanding their differences and how they impact model performance is crucial for developing effective models.\n",
    "\n",
    "#### Bias\n",
    "\n",
    "**Definition:**\n",
    "- Bias is the error introduced by approximating a real-world problem, which may be complex, by a simplified model.\n",
    "\n",
    "**Characteristics:**\n",
    "- **High Bias:** The model makes strong assumptions about the data, leading to systematic errors.\n",
    "- **Effect:** Causes underfitting, where the model is too simple to capture the underlying patterns of the data.\n",
    "- **Performance:** Poor performance on both training and test datasets.\n",
    "\n",
    "**Example of High Bias Models:**\n",
    "- **Linear Regression on Non-Linear Data:** A linear regression model applied to a dataset with a non-linear relationship between features and target variable.\n",
    "- **Simple Decision Trees:** A shallow decision tree with very few splits can exhibit high bias as it cannot capture the complexity of the data.\n",
    "\n",
    "#### Variance\n",
    "\n",
    "**Definition:**\n",
    "- Variance is the error introduced by the model’s sensitivity to small fluctuations in the training data.\n",
    "\n",
    "**Characteristics:**\n",
    "- **High Variance:** The model learns the noise in the training data as if it were a true signal.\n",
    "- **Effect:** Causes overfitting, where the model captures the noise and performs poorly on unseen data.\n",
    "- **Performance:** Excellent performance on training data but poor generalization to test data.\n",
    "\n",
    "**Example of High Variance Models:**\n",
    "- **Deep Neural Networks:** A neural network with many layers and parameters can fit the training data very closely, capturing noise.\n",
    "- **Complex Decision Trees:** A decision tree with many levels (high depth) can fit the training data perfectly but fail to generalize.\n",
    "\n",
    "### Comparison of High Bias and High Variance Models\n",
    "\n",
    "1. **Model Complexity:**\n",
    "   - **High Bias Models:** Simple models with few parameters (e.g., linear regression, shallow decision trees).\n",
    "   - **High Variance Models:** Complex models with many parameters (e.g., deep neural networks, complex decision trees).\n",
    "\n",
    "2. **Training Error:**\n",
    "   - **High Bias Models:** High training error due to the model's inability to capture the data's complexity.\n",
    "   - **High Variance Models:** Low training error as the model fits the training data very closely.\n",
    "\n",
    "3. **Test Error:**\n",
    "   - **High Bias Models:** High test error similar to the training error, indicating underfitting.\n",
    "   - **High Variance Models:** High test error much greater than the training error, indicating overfitting.\n",
    "\n",
    "4. **Generalization:**\n",
    "   - **High Bias Models:** Poor generalization due to oversimplification of the data patterns.\n",
    "   - **High Variance Models:** Poor generalization due to the model capturing noise in the training data.\n",
    "\n",
    "### Summary\n",
    "\n",
    "- **High Bias** leads to underfitting with systematic errors and poor performance on both training and test data.\n",
    "- **High Variance** leads to overfitting with excellent training performance but poor generalization to new data.\n",
    "- Effective models require a balance between bias and variance, ensuring that the model is complex enough to capture underlying patterns but simple enough to generalize well to unseen data.\n",
    "\n",
    "Understanding and managing the bias-variance tradeoff is key to building robust and accurate machine learning models.\n"
   ]
  },
  {
   "cell_type": "markdown",
   "metadata": {},
   "source": [
    "![green-divider](https://user-images.githubusercontent.com/7065401/52071924-c003ad80-2562-11e9-8297-1c6595f8a7ff.png)"
   ]
  },
  {
   "cell_type": "markdown",
   "metadata": {},
   "source": [
    "# Q7: What is regularization in machine learning, and how can it be used to prevent overfitting? Describe some common regularization techniques and how they work."
   ]
  },
  {
   "cell_type": "markdown",
   "metadata": {},
   "source": [
    "## Answer:-\n",
    "\n",
    "### Regularization in Machine Learning\n",
    "\n",
    "**Definition:**  \n",
    "Regularization is a technique used in machine learning to prevent overfitting by adding a penalty to the loss function. This penalty discourages the model from becoming too complex and helps improve its generalization to new data.\n",
    "\n",
    "### How Regularization Prevents Overfitting\n",
    "\n",
    "Regularization works by adding additional constraints to the model parameters, effectively reducing their complexity. By penalizing large coefficients, regularization forces the model to learn simpler patterns, thus reducing the risk of overfitting.\n",
    "\n",
    "### Common Regularization Techniques\n",
    "\n",
    "1. **L1 Regularization (Lasso Regression):**\n",
    "   - **How It Works:** Adds the absolute values of the coefficients (weights) to the loss function:\n",
    "     \\[\n",
    "     \\text{Loss} = \\text{Original Loss} + \\lambda \\sum_{j=1}^{n} |w_j|\n",
    "     \\]\n",
    "   - **Effect:** Encourages sparsity in the model by driving some coefficients to zero, effectively performing feature selection.\n",
    "\n",
    "2. **L2 Regularization (Ridge Regression):**\n",
    "   - **How It Works:** Adds the squared values of the coefficients (weights) to the loss function:\n",
    "     \\[\n",
    "     \\text{Loss} = \\text{Original Loss} + \\lambda \\sum_{j=1}^{n} w_j^2\n",
    "     \\]\n",
    "   - **Effect:** Penalizes large coefficients, leading to a more even distribution of the weights and reducing the model complexity without necessarily making any weight exactly zero.\n",
    "\n",
    "3. **Elastic Net:**\n",
    "   - **How It Works:** Combines both L1 and L2 regularization:\n",
    "     \\[\n",
    "     \\text{Loss} = \\text{Original Loss} + \\lambda_1 \\sum_{j=1}^{n} |w_j| + \\lambda_2 \\sum_{j=1}^{n} w_j^2\n",
    "     \\]\n",
    "   - **Effect:** Balances the benefits of L1 (sparsity) and L2 (shrinkage) regularization, often leading to better performance than either method alone, especially when there are multiple correlated features.\n",
    "\n",
    "4. **Dropout (for Neural Networks):**\n",
    "   - **How It Works:** During training, randomly \"drops out\" a fraction of the neurons (units) in the network, setting their output to zero.\n",
    "   - **Effect:** Prevents the network from becoming too reliant on specific neurons, promoting robustness and reducing overfitting.\n",
    "\n",
    "5. **Early Stopping:**\n",
    "   - **How It Works:** Monitors the model’s performance on a validation set during training and stops training when performance starts to degrade.\n",
    "   - **Effect:** Prevents the model from learning noise in the training data by stopping the training process before overfitting occurs.\n",
    "\n",
    "6. **Data Augmentation:**\n",
    "   - **How It Works:** Artificially increases the size of the training dataset by creating modified versions of the original data (e.g., rotating, flipping images).\n",
    "   - **Effect:** Provides more varied training examples, helping the model generalize better to new data.\n",
    "\n",
    "### Summary\n",
    "\n",
    "Regularization is a crucial technique for preventing overfitting in machine learning models. By adding penalties to the loss function or modifying the training process, regularization encourages simpler models that generalize better to unseen data. Common regularization techniques include L1 and L2 regularization, elastic net, dropout, early stopping, and data augmentation. Implementing these techniques helps balance model complexity and performance, leading to more robust and accurate models.\n"
   ]
  },
  {
   "cell_type": "markdown",
   "metadata": {},
   "source": []
  }
 ],
 "metadata": {
  "language_info": {
   "name": "python"
  }
 },
 "nbformat": 4,
 "nbformat_minor": 2
}
