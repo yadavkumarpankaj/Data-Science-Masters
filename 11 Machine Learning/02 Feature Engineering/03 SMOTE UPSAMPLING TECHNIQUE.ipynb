{
 "cells": [
  {
   "cell_type": "markdown",
   "metadata": {},
   "source": [
    "## SMOTES (Synthetic Minority Oversampling Technique)\n",
    "\n",
    "- SMOTE (Synthetic Minority Over-sampling Technique) addresses class imbalance in machine learning by creating synthetic instances of the minority class. It enhances model performance by generating new samples along line segments connecting existing minority class instances. This technique improves classifier accuracy without relying on duplicating data, making it effective in scenarios where minority class representation is sparse, ensuring more balanced training datasets for better predictive outcomes."
   ]
  },
  {
   "cell_type": "code",
   "execution_count": null,
   "metadata": {
    "vscode": {
     "languageId": "plaintext"
    }
   },
   "outputs": [],
   "source": []
  }
 ],
 "metadata": {
  "language_info": {
   "name": "python"
  }
 },
 "nbformat": 4,
 "nbformat_minor": 2
}
