{
 "cells": [
  {
   "cell_type": "markdown",
   "id": "d791e2cc-e730-42f8-b57e-9f98145d246a",
   "metadata": {},
   "source": [
    "# <center>**01 Assignment Python**</center>"
   ]
  },
  {
   "cell_type": "markdown",
   "id": "d94863b3-501d-47f4-9812-2e6282eaa29c",
   "metadata": {},
   "source": [
    "## Q1. Explain with an example each when to use a for loop and a while loop."
   ]
  },
  {
   "cell_type": "markdown",
   "id": "1420af00-4cc0-4656-9c7b-244f96ea2426",
   "metadata": {
    "jp-MarkdownHeadingCollapsed": true,
    "tags": []
   },
   "source": [
    "### Answer:"
   ]
  },
  {
   "cell_type": "markdown",
   "id": "984dfb2c-96b9-4873-ba3a-2051c335edaa",
   "metadata": {},
   "source": [
    "A `for Loop` generally used when you know exactly how many times you want to repeat a block of code. It iterates through a sequence of values and excutes the codes within the loop for each value in the sequence.\n",
    "\n",
    "Here's an example"
   ]
  },
  {
   "cell_type": "code",
   "execution_count": 1,
   "id": "2d9eaab3-5aa3-4050-97dc-ff1b174f3dc4",
   "metadata": {},
   "outputs": [
    {
     "name": "stdout",
     "output_type": "stream",
     "text": [
      "2\n",
      "4\n",
      "6\n",
      "8\n",
      "10\n"
     ]
    }
   ],
   "source": [
    "# Print the first 5 even numbers\n",
    "for i in range(1,11):\n",
    "    if i%2==0:\n",
    "        print(i)"
   ]
  },
  {
   "cell_type": "markdown",
   "id": "49e9fe11-5046-4a13-aa73-60456ee416ee",
   "metadata": {},
   "source": [
    "- In this example, we use the `range()` function to generates a sequence of numbers from 1 to 10, and the `for` loop excutes the code block for each number in the sequence. We use the `if` statement to check if the number is even, and if so, we print it to the console.\n",
    "\n",
    "\n",
    "A `while loop`, on other hand, is used when you don't know exactly how many times you want to repeat a block of code. It continues to execute the code within the loop as long as a certain condition is `true`.\n",
    "\n",
    "Here's an example:"
   ]
  },
  {
   "cell_type": "code",
   "execution_count": 4,
   "id": "25932123-0854-44a9-a230-881ae3cc9583",
   "metadata": {},
   "outputs": [
    {
     "name": "stdout",
     "output_type": "stream",
     "text": [
      "55\n"
     ]
    }
   ],
   "source": [
    "# Sum the numbers from 1 to 10\n",
    "\n",
    "total = 0 \n",
    "i = 1\n",
    "while i <= 10:\n",
    "    total += i\n",
    "    i += 1\n",
    "\n",
    "print(total)"
   ]
  },
  {
   "cell_type": "markdown",
   "id": "7365060d-54e1-4cfe-9d28-b32c92d50579",
   "metadata": {},
   "source": [
    "- In this example, we use a `while` loop to add up the numbers from 1 to 10. We intialize a variable `i` to 1, and continue to excute the code block within the loop as long as `i` is less than or equal to 10, Within the loop, we add `i` to the `total` variable and increment `i` by 1. Once `i` is greater than 10, the condition is no longer true, and the loop terminates. Finally, we print the value of `total` to the console."
   ]
  },
  {
   "cell_type": "markdown",
   "id": "be150924-de67-4df6-bddb-23e9528d0f81",
   "metadata": {},
   "source": [
    "## Q2. Write a python program to print the sum and product of the first 10 natural numbers using for and while loop."
   ]
  },
  {
   "cell_type": "markdown",
   "id": "ba1f6717-aeee-4308-bc3a-01d96368811a",
   "metadata": {
    "tags": []
   },
   "source": [
    "### Answer"
   ]
  },
  {
   "cell_type": "code",
   "execution_count": 8,
   "id": "04a2ea62-97cf-4b3d-86ed-f69123497dca",
   "metadata": {},
   "outputs": [
    {
     "name": "stdout",
     "output_type": "stream",
     "text": [
      "Sum of first 10 natural loop: 55\n",
      "Product of first 10 natural loop: 3628800\n"
     ]
    }
   ],
   "source": [
    "# Using for loop to calculate sum and product of first 10 natural numbers\n",
    "n = 10 \n",
    "sum = 0\n",
    "product = 1\n",
    "\n",
    "for i in range(1,n+1):\n",
    "    sum += i\n",
    "    product *= i\n",
    "\n",
    "print('Sum of first 10 natural numbers is:', sum)\n",
    "print('Product of first 10 natural numbers is:', product)"
   ]
  },
  {
   "cell_type": "code",
   "execution_count": 10,
   "id": "e38947e2-d981-4a19-86d1-bfd92231f4f6",
   "metadata": {},
   "outputs": [
    {
     "name": "stdout",
     "output_type": "stream",
     "text": [
      "sum of first 10 natural numbers is: 55\n",
      "Product of first 10 natural numbers is: 3628800\n"
     ]
    }
   ],
   "source": [
    "# Using while loop to calculate sum and product of first 10 natural numbers\n",
    "i = 1\n",
    "sum = 0\n",
    "product = 1\n",
    "\n",
    "while i<=10:\n",
    "    sum += i\n",
    "    product *= i\n",
    "    i += 1\n",
    "\n",
    "print('sum of first 10 natural numbers is:',sum)\n",
    "print('Product of first 10 natural numbers is:',product)"
   ]
  },
  {
   "cell_type": "markdown",
   "id": "49c507e0-52c1-4b66-bf0b-c9a11204a29e",
   "metadata": {},
   "source": [
    "## Q3. Create a python program to compute the electricity bill for a household. \n",
    "- The per-unit charges in rupees are as follows: For the first 100 units, the user will be charged Rs. 4.5 per unit, for the next 100 units, the user will be charged Rs. 6 per unit, and for the next 100 units, the user will be charged Rs. 10 per unit, After 300 units and above the user will be charged Rs. 20 per unit. \n",
    "\n",
    "- You are required to take the units of electricity consumed in a month from the user as input. \n",
    "\n",
    "- Your program must pass this test case: when the unit of electricity consumed by the user in a month is 310, the total electricity bill should be 2250."
   ]
  },
  {
   "cell_type": "markdown",
   "id": "b827828a-ac11-4100-8ead-87e49fb4dcce",
   "metadata": {},
   "source": [
    "### Answer"
   ]
  },
  {
   "cell_type": "code",
   "execution_count": 11,
   "id": "d053a71f-7016-4995-90aa-aa8a77fe2564",
   "metadata": {},
   "outputs": [
    {
     "name": "stdin",
     "output_type": "stream",
     "text": [
      "Enter the numbers of units consumed:  200\n"
     ]
    },
    {
     "name": "stdout",
     "output_type": "stream",
     "text": [
      "Electricity bill for the month: 1200\n"
     ]
    }
   ],
   "source": [
    "# Taking user input for units consumed\n",
    "units = int(input(\"Enter the numbers of units consumed: \"))\n",
    "\n",
    "#computing Electricity bill\n",
    "if units <= 100:\n",
    "    bill = units*4.5\n",
    "elif units <= 200:\n",
    "    bill = units*6\n",
    "elif units <= 300:\n",
    "    bill = 10*units\n",
    "else:\n",
    "    bill = 20*units\n",
    "    \n",
    "print(\"Electricity bill for the month:\", bill)"
   ]
  },
  {
   "cell_type": "markdown",
   "id": "b4b4968c-8ce2-4688-a594-a7f68e094ab6",
   "metadata": {},
   "source": [
    "## Q4. Create a list of numbers from 1 to 100. Use for loop and while loop to calculate the cube of each number and if the cube of that number is divisible by 4 or 5 then append that number in a list and print that list."
   ]
  },
  {
   "cell_type": "markdown",
   "id": "3b77d122-dc5f-49dd-b71c-c9b62f509afb",
   "metadata": {},
   "source": [
    "### Answer"
   ]
  },
  {
   "cell_type": "code",
   "execution_count": 13,
   "id": "43069e66-e86b-4928-b163-929836ee69dd",
   "metadata": {},
   "outputs": [
    {
     "name": "stdout",
     "output_type": "stream",
     "text": [
      "[1, 2, 3, 4, 5, 6, 7, 8, 9, 10, 11, 12, 13, 14, 15, 16, 17, 18, 19, 20, 21, 22, 23, 24, 25, 26, 27, 28, 29, 30, 31, 32, 33, 34, 35, 36, 37, 38, 39, 40, 41, 42, 43, 44, 45, 46, 47, 48, 49, 50, 51, 52, 53, 54, 55, 56, 57, 58, 59, 60, 61, 62, 63, 64, 65, 66, 67, 68, 69, 70, 71, 72, 73, 74, 75, 76, 77, 78, 79, 80, 81, 82, 83, 84, 85, 86, 87, 88, 89, 90, 91, 92, 93, 94, 95, 96, 97, 98, 99, 100]\n"
     ]
    }
   ],
   "source": [
    "# creating list from 1 to 100\n",
    "\n",
    "list1 = list(range(1,101))\n",
    "print(list1)\n",
    "             "
   ]
  },
  {
   "cell_type": "code",
   "execution_count": 15,
   "id": "1a0d189a-d2bb-4453-9cc3-7a5467c019bb",
   "metadata": {},
   "outputs": [
    {
     "name": "stdout",
     "output_type": "stream",
     "text": [
      "calculated list: [2, 4, 5, 6, 8, 10, 12, 14, 15, 16, 18, 20, 22, 24, 25, 26, 28, 30, 32, 34, 35, 36, 38, 40, 42, 44, 45, 46, 48, 50, 52, 54, 55, 56, 58, 60, 62, 64, 65, 66, 68, 70, 72, 74, 75, 76, 78, 80, 82, 84, 85, 86, 88, 90, 92, 94, 95, 96, 98, 100]\n"
     ]
    }
   ],
   "source": [
    "#using for loop \n",
    "result = []\n",
    "for x in list1:\n",
    "    cube = x**3\n",
    "    if cube%4==0 or cube%5==0:\n",
    "        result.append(x)\n",
    "\n",
    "print(\"calculated list:\",result)\n",
    "            "
   ]
  },
  {
   "cell_type": "code",
   "execution_count": 16,
   "id": "44e15edf-4295-4073-a27c-5177147c3776",
   "metadata": {},
   "outputs": [
    {
     "name": "stdout",
     "output_type": "stream",
     "text": [
      "Calculated list: [2, 4, 5, 6, 8, 10, 12, 14, 15, 16, 18, 20, 22, 24, 25, 26, 28, 30, 32, 34, 35, 36, 38, 40, 42, 44, 45, 46, 48, 50, 52, 54, 55, 56, 58, 60, 62, 64, 65, 66, 68, 70, 72, 74, 75, 76, 78, 80, 82, 84, 85, 86, 88, 90, 92, 94, 95, 96, 98, 100]\n"
     ]
    }
   ],
   "source": [
    "#using While loop\n",
    "i = 1\n",
    "result = []\n",
    "\n",
    "while i<= 100:\n",
    "    cube = i**3\n",
    "    if cube%4 == 0 or cube%5 == 0 :\n",
    "        result.append(i)\n",
    "    i += 1\n",
    "    \n",
    "print(\"Calculated list:\",result)\n"
   ]
  },
  {
   "cell_type": "markdown",
   "id": "91f66550-d454-43d2-a907-ed788711354e",
   "metadata": {},
   "source": [
    "## Q5. Write a program to filter count vowels in the below-given string.\n",
    "- string = \"I want to become a data scientist\""
   ]
  },
  {
   "cell_type": "code",
   "execution_count": 17,
   "id": "387d4dbd-804c-4c28-a9d9-510bc7e6766e",
   "metadata": {},
   "outputs": [],
   "source": [
    "string = \"I want to become a data scientist\""
   ]
  },
  {
   "cell_type": "code",
   "execution_count": 20,
   "id": "33143e9e-b45c-4c0a-b5aa-9f72d51d889d",
   "metadata": {},
   "outputs": [],
   "source": [
    "string = string.lower()"
   ]
  },
  {
   "cell_type": "code",
   "execution_count": 23,
   "id": "3bf14cf0-92c9-4e54-88a1-0d2dcf3f06f9",
   "metadata": {},
   "outputs": [
    {
     "name": "stdout",
     "output_type": "stream",
     "text": [
      "count vowels in given string  12\n"
     ]
    }
   ],
   "source": [
    "count_result =  0\n",
    "for a in string:\n",
    "    if a in ('a','e','i','o','u'):\n",
    "        count_result += 1\n",
    "\n",
    "print(\"count vowels in given string \",count_result)\n",
    "    "
   ]
  },
  {
   "cell_type": "code",
   "execution_count": null,
   "id": "6dc49316-f55d-4ecc-adfc-35172ef2df94",
   "metadata": {},
   "outputs": [],
   "source": []
  }
 ],
 "metadata": {
  "kernelspec": {
   "display_name": "Python 3 (ipykernel)",
   "language": "python",
   "name": "python3"
  },
  "language_info": {
   "codemirror_mode": {
    "name": "ipython",
    "version": 3
   },
   "file_extension": ".py",
   "mimetype": "text/x-python",
   "name": "python",
   "nbconvert_exporter": "python",
   "pygments_lexer": "ipython3",
   "version": "3.10.8"
  }
 },
 "nbformat": 4,
 "nbformat_minor": 5
}
