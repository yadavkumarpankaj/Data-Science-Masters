{
  "nbformat": 4,
  "nbformat_minor": 0,
  "metadata": {
    "colab": {
      "provenance": [],
      "authorship_tag": "ABX9TyN9IMzMTQ4epB/nFnzs3733",
      "include_colab_link": true
    },
    "kernelspec": {
      "name": "python3",
      "display_name": "Python 3"
    },
    "language_info": {
      "name": "python"
    }
  },
  "cells": [
    {
      "cell_type": "markdown",
      "metadata": {
        "id": "view-in-github",
        "colab_type": "text"
      },
      "source": [
        "<a href=\"https://colab.research.google.com/github/yadavkumarpankaj/Data-Science-Masters/blob/main/01_Introduction_to_Machine_Learning.ipynb\" target=\"_parent\"><img src=\"https://colab.research.google.com/assets/colab-badge.svg\" alt=\"Open In Colab\"/></a>"
      ]
    },
    {
      "cell_type": "markdown",
      "source": [
        "[<img src=\"https://user-images.githubusercontent.com/104052797/227734220-c880c683-a61d-41d7-8595-017d1feae370.jpg\" alt=\"Pankaj Kumar Yadav\" style=\"width: 300px; height: auto;\">](https://www.linkedin.com/in/pankaj-kr-yadav/) &copy; 2023 `Pankaj Kumar Yadav`. All rights reserved.\n",
        "\n",
        "----"
      ],
      "metadata": {
        "id": "-G819qYHDjIR"
      }
    },
    {
      "cell_type": "markdown",
      "source": [
        "# 📍**Introduction to Machine Learning-1** 📍\n"
      ],
      "metadata": {
        "id": "hl1YulyoDq2Q"
      }
    },
    {
      "cell_type": "markdown",
      "source": [
        "![purple-divider](https://user-images.githubusercontent.com/7065401/52071927-c1cd7100-2562-11e9-908a-dde91ba14e59.png)"
      ],
      "metadata": {
        "id": "fRlsZyToEyim"
      }
    },
    {
      "cell_type": "markdown",
      "source": [
        "# Q1.  Explain the following with an example:\n",
        "1. Artificial Intelligence\n",
        "2. Machine Learning\n",
        "3. Deep Learning\n"
      ],
      "metadata": {
        "id": "c-g-9Pl-EASN"
      }
    },
    {
      "cell_type": "markdown",
      "source": [
        "# Answer:\n",
        "\n",
        "1. ***Artificial Intelligence (AI):***\n",
        "    Artificial Intelligence refers to the simulation of human intelligence processes by machines, particularly computer systems. AI enables machines to perform tasks that typically require human intelligence, such as problem-solving, learning, reasoning, and decision-making. AI can be categorized into narrow or weak AI, which is designed for specific tasks, and general or strong AI, which would have human-level cognitive abilities.\n",
        "    \n",
        "    Example: A classic example of AI is a virtual personal assistant like Siri or Google Assistant. These applications can understand natural language, interpret user commands, and provide relevant responses or perform tasks like setting reminders, sending messages, or providing weather updates.\n",
        "\n",
        "2. ***Machine Learning (ML):***\n",
        "\n",
        "    Machine Learning is a subset of AI that involves the development of algorithms and models that allow computers to learn from data and improve their performance over time without being explicitly programmed. It focuses on the development of techniques that enable computers to automatically analyze and interpret data and make predictions or decisions based on patterns and examples.\n",
        "    \n",
        "    Example: Email spam filters are a common application of machine learning. Instead of manually coding rules to identify spam, a machine learning model can be trained on a dataset of emails labeled as spam or not spam. The model learns patterns from the data and can then accurately classify new emails as spam or not based on its learned knowledge.\n",
        "\n",
        "3. ***Deep Learning:***\n",
        "\n",
        "    Deep Learning is a subfield of machine learning that specifically deals with neural networks containing multiple layers (deep neural networks). It aims to mimic the human brain's structure and function by using interconnected layers of artificial neurons to process and learn from data. Deep learning has shown remarkable success in tasks such as image and speech recognition, natural language processing, and more.\n",
        "    \n",
        "    Example: Image recognition is an area where deep learning excels. Consider a deep learning model for image classification. It could be trained on a large dataset of images labeled with different objects. The model learns to recognize features and patterns in images by adjusting the weights of its interconnected neurons. Once trained, it can accurately identify objects in new images, such as labeling a photo of a cat as a \"cat.\"\n",
        "\n",
        "In summary, Artificial Intelligence encompasses the broader concept of machines performing intelligent tasks, Machine Learning focuses on algorithms learning from data, and Deep Learning is a subset of machine learning involving neural networks with multiple layers, often used for complex pattern recognition tasks."
      ],
      "metadata": {
        "id": "wafhzBteE2y8"
      }
    },
    {
      "cell_type": "markdown",
      "source": [
        "![green-divider](https://user-images.githubusercontent.com/7065401/52071924-c003ad80-2562-11e9-8297-1c6595f8a7ff.png)"
      ],
      "metadata": {
        "id": "mhbe5QDjFsi3"
      }
    },
    {
      "cell_type": "markdown",
      "source": [
        "# Q2: What is supervised learning? List some examples of supervised learning."
      ],
      "metadata": {
        "id": "Z_NBwB06GmG6"
      }
    },
    {
      "cell_type": "markdown",
      "source": [
        "Supervised learning is a type of machine learning where the algorithm learns from labeled training data to make predictions or decisions. In supervised learning, the algorithm is provided with input-output pairs (features and corresponding labels) and aims to learn the relationship between the inputs and outputs. Once trained, the algorithm can use this learned relationship to make predictions or classify new, unseen data.\n",
        "\n",
        "## Examples of Supervised Learning:\n",
        "\n",
        "1. Image Classification: Given a dataset of images with labeled categories (e.g., cats and dogs), the algorithm learns to classify new images into these categories.\n",
        "\n",
        "2. Email Spam Detection: A model is trained on a labeled dataset of emails marked as spam or not spam. It then predicts whether new incoming emails are spam or not based on the learned patterns.\n",
        "\n",
        "3. Stock Price Prediction: Using historical stock data as input and the corresponding future stock prices as output, the algorithm learns to predict future stock prices.\n",
        "\n",
        "4. Medical Diagnosis: An algorithm can be trained on medical records with labels indicating whether patients have a certain condition or disease. It can then predict whether new patients exhibit symptoms of that condition.\n",
        "\n",
        "5. Language Translation: Given pairs of sentences in two languages (source and target), a model can be trained to translate sentences from one language to another.\n",
        "\n",
        "6. Credit Scoring: Using historical data about customers and their creditworthiness (e.g., whether they defaulted on loans), an algorithm can learn to predict the likelihood of future loan default for new applicants.\n",
        "\n",
        "7. Customer Churn Prediction: By analyzing past customer behavior and whether they churned (stopped using a service), a model can predict which customers are likely to churn in the future.\n",
        "\n",
        "8. Face Recognition: An algorithm can be trained on images of individuals with their corresponding identities. It can then recognize and label individuals in new images.\n",
        "\n",
        "9. Object Detection: Given images with labeled bounding boxes around objects, a model can be trained to detect and locate objects of interest within new images.\n",
        "\n",
        "10. Speech Recognition: By training on audio clips with corresponding transcriptions, an algorithm can learn to convert spoken language into text.\n",
        "\n",
        "In supervised learning, the training process involves adjusting the algorithm's parameters to minimize the difference between its predictions and the actual labeled outputs. The goal is for the algorithm to generalize its learning to make accurate predictions on new, unseen data."
      ],
      "metadata": {
        "id": "E0G7QT30Gy6p"
      }
    },
    {
      "cell_type": "code",
      "execution_count": null,
      "metadata": {
        "id": "xaRrG5dyDQT5"
      },
      "outputs": [],
      "source": []
    },
    {
      "cell_type": "code",
      "source": [
        "m"
      ],
      "metadata": {
        "id": "y71gUCovDfW6"
      },
      "execution_count": null,
      "outputs": []
    }
  ]
}