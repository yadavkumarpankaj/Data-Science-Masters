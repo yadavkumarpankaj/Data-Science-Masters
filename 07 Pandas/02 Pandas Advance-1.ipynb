{
 "cells": [
  {
   "cell_type": "markdown",
   "id": "a9f51da5-6ae1-4496-aa57-89289a16c6ae",
   "metadata": {},
   "source": [
    "[<img src=\"https://user-images.githubusercontent.com/104052797/227734220-c880c683-a61d-41d7-8595-017d1feae370.jpg\" alt=\"Pankaj Kumar Yadav\" style=\"width: 300px; height: auto;\">](https://www.linkedin.com/in/pankaj-kr-yadav/) &copy; 2023 `Pankaj Kumar Yadav`. All rights reserved.\n",
    "\n",
    "----"
   ]
  },
  {
   "cell_type": "markdown",
   "id": "b5274aa8-f3b4-4042-aa65-039daa02b161",
   "metadata": {},
   "source": [
    "# 📍 Pandas Advance-1 📍\n"
   ]
  },
  {
   "cell_type": "code",
   "execution_count": 3,
   "id": "effc8cb9-8b76-4fb6-9161-5b1f24099879",
   "metadata": {},
   "outputs": [],
   "source": [
    "import pandas as pd"
   ]
  },
  {
   "cell_type": "markdown",
   "id": "237e6aab-87dd-4e59-b551-edc88a68b570",
   "metadata": {},
   "source": [
    "![purple-divider](https://user-images.githubusercontent.com/7065401/52071927-c1cd7100-2562-11e9-908a-dde91ba14e59.png)"
   ]
  },
  {
   "cell_type": "markdown",
   "id": "a47f5a5b-c9c2-4955-b2ad-27016e7218f2",
   "metadata": {},
   "source": [
    "## Q1. List any five functions of the pandas library with execution."
   ]
  },
  {
   "cell_type": "markdown",
   "id": "9e0c189f-550b-4a69-a732-8cc21629a263",
   "metadata": {},
   "source": [
    "### Answer:\n",
    "\n",
    "Here are five functions of the Pandas library in Python with their execution:\n",
    "\n",
    "1. `pd.read_csv()`: This function is used to read data from a CSV file and return it as a DataFrame object."
   ]
  },
  {
   "cell_type": "code",
   "execution_count": 2,
   "id": "f8ddfb6f-dd82-4f0d-a660-900baeffa603",
   "metadata": {},
   "outputs": [
    {
     "data": {
      "text/html": [
       "<div>\n",
       "<style scoped>\n",
       "    .dataframe tbody tr th:only-of-type {\n",
       "        vertical-align: middle;\n",
       "    }\n",
       "\n",
       "    .dataframe tbody tr th {\n",
       "        vertical-align: top;\n",
       "    }\n",
       "\n",
       "    .dataframe thead th {\n",
       "        text-align: right;\n",
       "    }\n",
       "</style>\n",
       "<table border=\"1\" class=\"dataframe\">\n",
       "  <thead>\n",
       "    <tr style=\"text-align: right;\">\n",
       "      <th></th>\n",
       "      <th>PassengerId</th>\n",
       "      <th>Survived</th>\n",
       "      <th>Pclass</th>\n",
       "      <th>Name</th>\n",
       "      <th>Sex</th>\n",
       "      <th>Age</th>\n",
       "      <th>SibSp</th>\n",
       "      <th>Parch</th>\n",
       "      <th>Ticket</th>\n",
       "      <th>Fare</th>\n",
       "      <th>Cabin</th>\n",
       "      <th>Embarked</th>\n",
       "    </tr>\n",
       "  </thead>\n",
       "  <tbody>\n",
       "    <tr>\n",
       "      <th>0</th>\n",
       "      <td>1</td>\n",
       "      <td>0</td>\n",
       "      <td>3</td>\n",
       "      <td>Braund, Mr. Owen Harris</td>\n",
       "      <td>male</td>\n",
       "      <td>22.0</td>\n",
       "      <td>1</td>\n",
       "      <td>0</td>\n",
       "      <td>A/5 21171</td>\n",
       "      <td>7.2500</td>\n",
       "      <td>NaN</td>\n",
       "      <td>S</td>\n",
       "    </tr>\n",
       "    <tr>\n",
       "      <th>1</th>\n",
       "      <td>2</td>\n",
       "      <td>1</td>\n",
       "      <td>1</td>\n",
       "      <td>Cumings, Mrs. John Bradley (Florence Briggs Th...</td>\n",
       "      <td>female</td>\n",
       "      <td>38.0</td>\n",
       "      <td>1</td>\n",
       "      <td>0</td>\n",
       "      <td>PC 17599</td>\n",
       "      <td>71.2833</td>\n",
       "      <td>C85</td>\n",
       "      <td>C</td>\n",
       "    </tr>\n",
       "    <tr>\n",
       "      <th>2</th>\n",
       "      <td>3</td>\n",
       "      <td>1</td>\n",
       "      <td>3</td>\n",
       "      <td>Heikkinen, Miss. Laina</td>\n",
       "      <td>female</td>\n",
       "      <td>26.0</td>\n",
       "      <td>0</td>\n",
       "      <td>0</td>\n",
       "      <td>STON/O2. 3101282</td>\n",
       "      <td>7.9250</td>\n",
       "      <td>NaN</td>\n",
       "      <td>S</td>\n",
       "    </tr>\n",
       "    <tr>\n",
       "      <th>3</th>\n",
       "      <td>4</td>\n",
       "      <td>1</td>\n",
       "      <td>1</td>\n",
       "      <td>Futrelle, Mrs. Jacques Heath (Lily May Peel)</td>\n",
       "      <td>female</td>\n",
       "      <td>35.0</td>\n",
       "      <td>1</td>\n",
       "      <td>0</td>\n",
       "      <td>113803</td>\n",
       "      <td>53.1000</td>\n",
       "      <td>C123</td>\n",
       "      <td>S</td>\n",
       "    </tr>\n",
       "    <tr>\n",
       "      <th>4</th>\n",
       "      <td>5</td>\n",
       "      <td>0</td>\n",
       "      <td>3</td>\n",
       "      <td>Allen, Mr. William Henry</td>\n",
       "      <td>male</td>\n",
       "      <td>35.0</td>\n",
       "      <td>0</td>\n",
       "      <td>0</td>\n",
       "      <td>373450</td>\n",
       "      <td>8.0500</td>\n",
       "      <td>NaN</td>\n",
       "      <td>S</td>\n",
       "    </tr>\n",
       "    <tr>\n",
       "      <th>...</th>\n",
       "      <td>...</td>\n",
       "      <td>...</td>\n",
       "      <td>...</td>\n",
       "      <td>...</td>\n",
       "      <td>...</td>\n",
       "      <td>...</td>\n",
       "      <td>...</td>\n",
       "      <td>...</td>\n",
       "      <td>...</td>\n",
       "      <td>...</td>\n",
       "      <td>...</td>\n",
       "      <td>...</td>\n",
       "    </tr>\n",
       "    <tr>\n",
       "      <th>886</th>\n",
       "      <td>887</td>\n",
       "      <td>0</td>\n",
       "      <td>2</td>\n",
       "      <td>Montvila, Rev. Juozas</td>\n",
       "      <td>male</td>\n",
       "      <td>27.0</td>\n",
       "      <td>0</td>\n",
       "      <td>0</td>\n",
       "      <td>211536</td>\n",
       "      <td>13.0000</td>\n",
       "      <td>NaN</td>\n",
       "      <td>S</td>\n",
       "    </tr>\n",
       "    <tr>\n",
       "      <th>887</th>\n",
       "      <td>888</td>\n",
       "      <td>1</td>\n",
       "      <td>1</td>\n",
       "      <td>Graham, Miss. Margaret Edith</td>\n",
       "      <td>female</td>\n",
       "      <td>19.0</td>\n",
       "      <td>0</td>\n",
       "      <td>0</td>\n",
       "      <td>112053</td>\n",
       "      <td>30.0000</td>\n",
       "      <td>B42</td>\n",
       "      <td>S</td>\n",
       "    </tr>\n",
       "    <tr>\n",
       "      <th>888</th>\n",
       "      <td>889</td>\n",
       "      <td>0</td>\n",
       "      <td>3</td>\n",
       "      <td>Johnston, Miss. Catherine Helen \"Carrie\"</td>\n",
       "      <td>female</td>\n",
       "      <td>NaN</td>\n",
       "      <td>1</td>\n",
       "      <td>2</td>\n",
       "      <td>W./C. 6607</td>\n",
       "      <td>23.4500</td>\n",
       "      <td>NaN</td>\n",
       "      <td>S</td>\n",
       "    </tr>\n",
       "    <tr>\n",
       "      <th>889</th>\n",
       "      <td>890</td>\n",
       "      <td>1</td>\n",
       "      <td>1</td>\n",
       "      <td>Behr, Mr. Karl Howell</td>\n",
       "      <td>male</td>\n",
       "      <td>26.0</td>\n",
       "      <td>0</td>\n",
       "      <td>0</td>\n",
       "      <td>111369</td>\n",
       "      <td>30.0000</td>\n",
       "      <td>C148</td>\n",
       "      <td>C</td>\n",
       "    </tr>\n",
       "    <tr>\n",
       "      <th>890</th>\n",
       "      <td>891</td>\n",
       "      <td>0</td>\n",
       "      <td>3</td>\n",
       "      <td>Dooley, Mr. Patrick</td>\n",
       "      <td>male</td>\n",
       "      <td>32.0</td>\n",
       "      <td>0</td>\n",
       "      <td>0</td>\n",
       "      <td>370376</td>\n",
       "      <td>7.7500</td>\n",
       "      <td>NaN</td>\n",
       "      <td>Q</td>\n",
       "    </tr>\n",
       "  </tbody>\n",
       "</table>\n",
       "<p>891 rows × 12 columns</p>\n",
       "</div>"
      ],
      "text/plain": [
       "     PassengerId  Survived  Pclass  \\\n",
       "0              1         0       3   \n",
       "1              2         1       1   \n",
       "2              3         1       3   \n",
       "3              4         1       1   \n",
       "4              5         0       3   \n",
       "..           ...       ...     ...   \n",
       "886          887         0       2   \n",
       "887          888         1       1   \n",
       "888          889         0       3   \n",
       "889          890         1       1   \n",
       "890          891         0       3   \n",
       "\n",
       "                                                  Name     Sex   Age  SibSp  \\\n",
       "0                              Braund, Mr. Owen Harris    male  22.0      1   \n",
       "1    Cumings, Mrs. John Bradley (Florence Briggs Th...  female  38.0      1   \n",
       "2                               Heikkinen, Miss. Laina  female  26.0      0   \n",
       "3         Futrelle, Mrs. Jacques Heath (Lily May Peel)  female  35.0      1   \n",
       "4                             Allen, Mr. William Henry    male  35.0      0   \n",
       "..                                                 ...     ...   ...    ...   \n",
       "886                              Montvila, Rev. Juozas    male  27.0      0   \n",
       "887                       Graham, Miss. Margaret Edith  female  19.0      0   \n",
       "888           Johnston, Miss. Catherine Helen \"Carrie\"  female   NaN      1   \n",
       "889                              Behr, Mr. Karl Howell    male  26.0      0   \n",
       "890                                Dooley, Mr. Patrick    male  32.0      0   \n",
       "\n",
       "     Parch            Ticket     Fare Cabin Embarked  \n",
       "0        0         A/5 21171   7.2500   NaN        S  \n",
       "1        0          PC 17599  71.2833   C85        C  \n",
       "2        0  STON/O2. 3101282   7.9250   NaN        S  \n",
       "3        0            113803  53.1000  C123        S  \n",
       "4        0            373450   8.0500   NaN        S  \n",
       "..     ...               ...      ...   ...      ...  \n",
       "886      0            211536  13.0000   NaN        S  \n",
       "887      0            112053  30.0000   B42        S  \n",
       "888      2        W./C. 6607  23.4500   NaN        S  \n",
       "889      0            111369  30.0000  C148        C  \n",
       "890      0            370376   7.7500   NaN        Q  \n",
       "\n",
       "[891 rows x 12 columns]"
      ]
     },
     "execution_count": 2,
     "metadata": {},
     "output_type": "execute_result"
    }
   ],
   "source": [
    "df = pd.read_csv(\"https://raw.githubusercontent.com/datasciencedojo/datasets/master/titanic.csv\")\n",
    "df"
   ]
  },
  {
   "cell_type": "markdown",
   "id": "62f64ec8-e79a-4b96-8846-a3086be89be5",
   "metadata": {},
   "source": [
    "2. `df.head()`: This function is used to display the first few rows of the DataFrame. By default, it displays the first five rows."
   ]
  },
  {
   "cell_type": "code",
   "execution_count": 3,
   "id": "f55561be-0949-4449-93c2-ee203fe9100f",
   "metadata": {},
   "outputs": [
    {
     "data": {
      "text/html": [
       "<div>\n",
       "<style scoped>\n",
       "    .dataframe tbody tr th:only-of-type {\n",
       "        vertical-align: middle;\n",
       "    }\n",
       "\n",
       "    .dataframe tbody tr th {\n",
       "        vertical-align: top;\n",
       "    }\n",
       "\n",
       "    .dataframe thead th {\n",
       "        text-align: right;\n",
       "    }\n",
       "</style>\n",
       "<table border=\"1\" class=\"dataframe\">\n",
       "  <thead>\n",
       "    <tr style=\"text-align: right;\">\n",
       "      <th></th>\n",
       "      <th>PassengerId</th>\n",
       "      <th>Survived</th>\n",
       "      <th>Pclass</th>\n",
       "      <th>Name</th>\n",
       "      <th>Sex</th>\n",
       "      <th>Age</th>\n",
       "      <th>SibSp</th>\n",
       "      <th>Parch</th>\n",
       "      <th>Ticket</th>\n",
       "      <th>Fare</th>\n",
       "      <th>Cabin</th>\n",
       "      <th>Embarked</th>\n",
       "    </tr>\n",
       "  </thead>\n",
       "  <tbody>\n",
       "    <tr>\n",
       "      <th>0</th>\n",
       "      <td>1</td>\n",
       "      <td>0</td>\n",
       "      <td>3</td>\n",
       "      <td>Braund, Mr. Owen Harris</td>\n",
       "      <td>male</td>\n",
       "      <td>22.0</td>\n",
       "      <td>1</td>\n",
       "      <td>0</td>\n",
       "      <td>A/5 21171</td>\n",
       "      <td>7.2500</td>\n",
       "      <td>NaN</td>\n",
       "      <td>S</td>\n",
       "    </tr>\n",
       "    <tr>\n",
       "      <th>1</th>\n",
       "      <td>2</td>\n",
       "      <td>1</td>\n",
       "      <td>1</td>\n",
       "      <td>Cumings, Mrs. John Bradley (Florence Briggs Th...</td>\n",
       "      <td>female</td>\n",
       "      <td>38.0</td>\n",
       "      <td>1</td>\n",
       "      <td>0</td>\n",
       "      <td>PC 17599</td>\n",
       "      <td>71.2833</td>\n",
       "      <td>C85</td>\n",
       "      <td>C</td>\n",
       "    </tr>\n",
       "    <tr>\n",
       "      <th>2</th>\n",
       "      <td>3</td>\n",
       "      <td>1</td>\n",
       "      <td>3</td>\n",
       "      <td>Heikkinen, Miss. Laina</td>\n",
       "      <td>female</td>\n",
       "      <td>26.0</td>\n",
       "      <td>0</td>\n",
       "      <td>0</td>\n",
       "      <td>STON/O2. 3101282</td>\n",
       "      <td>7.9250</td>\n",
       "      <td>NaN</td>\n",
       "      <td>S</td>\n",
       "    </tr>\n",
       "    <tr>\n",
       "      <th>3</th>\n",
       "      <td>4</td>\n",
       "      <td>1</td>\n",
       "      <td>1</td>\n",
       "      <td>Futrelle, Mrs. Jacques Heath (Lily May Peel)</td>\n",
       "      <td>female</td>\n",
       "      <td>35.0</td>\n",
       "      <td>1</td>\n",
       "      <td>0</td>\n",
       "      <td>113803</td>\n",
       "      <td>53.1000</td>\n",
       "      <td>C123</td>\n",
       "      <td>S</td>\n",
       "    </tr>\n",
       "    <tr>\n",
       "      <th>4</th>\n",
       "      <td>5</td>\n",
       "      <td>0</td>\n",
       "      <td>3</td>\n",
       "      <td>Allen, Mr. William Henry</td>\n",
       "      <td>male</td>\n",
       "      <td>35.0</td>\n",
       "      <td>0</td>\n",
       "      <td>0</td>\n",
       "      <td>373450</td>\n",
       "      <td>8.0500</td>\n",
       "      <td>NaN</td>\n",
       "      <td>S</td>\n",
       "    </tr>\n",
       "  </tbody>\n",
       "</table>\n",
       "</div>"
      ],
      "text/plain": [
       "   PassengerId  Survived  Pclass  \\\n",
       "0            1         0       3   \n",
       "1            2         1       1   \n",
       "2            3         1       3   \n",
       "3            4         1       1   \n",
       "4            5         0       3   \n",
       "\n",
       "                                                Name     Sex   Age  SibSp  \\\n",
       "0                            Braund, Mr. Owen Harris    male  22.0      1   \n",
       "1  Cumings, Mrs. John Bradley (Florence Briggs Th...  female  38.0      1   \n",
       "2                             Heikkinen, Miss. Laina  female  26.0      0   \n",
       "3       Futrelle, Mrs. Jacques Heath (Lily May Peel)  female  35.0      1   \n",
       "4                           Allen, Mr. William Henry    male  35.0      0   \n",
       "\n",
       "   Parch            Ticket     Fare Cabin Embarked  \n",
       "0      0         A/5 21171   7.2500   NaN        S  \n",
       "1      0          PC 17599  71.2833   C85        C  \n",
       "2      0  STON/O2. 3101282   7.9250   NaN        S  \n",
       "3      0            113803  53.1000  C123        S  \n",
       "4      0            373450   8.0500   NaN        S  "
      ]
     },
     "execution_count": 3,
     "metadata": {},
     "output_type": "execute_result"
    }
   ],
   "source": [
    "df.head()"
   ]
  },
  {
   "cell_type": "markdown",
   "id": "79bf8e75-c9f4-4954-9721-0e38725c4e66",
   "metadata": {},
   "source": [
    "3. `df.info()`: This function is used to get a summary of the DataFrame, including information about the columns, data types, and null values."
   ]
  },
  {
   "cell_type": "code",
   "execution_count": 4,
   "id": "76217c56-85b3-4055-850d-dd4497d2277f",
   "metadata": {},
   "outputs": [
    {
     "name": "stdout",
     "output_type": "stream",
     "text": [
      "<class 'pandas.core.frame.DataFrame'>\n",
      "RangeIndex: 891 entries, 0 to 890\n",
      "Data columns (total 12 columns):\n",
      " #   Column       Non-Null Count  Dtype  \n",
      "---  ------       --------------  -----  \n",
      " 0   PassengerId  891 non-null    int64  \n",
      " 1   Survived     891 non-null    int64  \n",
      " 2   Pclass       891 non-null    int64  \n",
      " 3   Name         891 non-null    object \n",
      " 4   Sex          891 non-null    object \n",
      " 5   Age          714 non-null    float64\n",
      " 6   SibSp        891 non-null    int64  \n",
      " 7   Parch        891 non-null    int64  \n",
      " 8   Ticket       891 non-null    object \n",
      " 9   Fare         891 non-null    float64\n",
      " 10  Cabin        204 non-null    object \n",
      " 11  Embarked     889 non-null    object \n",
      "dtypes: float64(2), int64(5), object(5)\n",
      "memory usage: 83.7+ KB\n"
     ]
    }
   ],
   "source": [
    "df.info()"
   ]
  },
  {
   "cell_type": "markdown",
   "id": "7ee1f2aa-067a-4d6a-a926-922a95efeb01",
   "metadata": {},
   "source": [
    "4. `df.groupby()`: This function is used to group data in the DataFrame by one or more columns, and then perform a calculation on each group."
   ]
  },
  {
   "cell_type": "code",
   "execution_count": 7,
   "id": "d8cc4927-0f15-4198-9eed-acd2bee3da15",
   "metadata": {},
   "outputs": [],
   "source": [
    "group_df = df.groupby(\"Sex\")[['Fare']].mean()"
   ]
  },
  {
   "cell_type": "code",
   "execution_count": 8,
   "id": "3566a23f-1031-460b-9ea8-cac5e620c784",
   "metadata": {},
   "outputs": [
    {
     "data": {
      "text/html": [
       "<div>\n",
       "<style scoped>\n",
       "    .dataframe tbody tr th:only-of-type {\n",
       "        vertical-align: middle;\n",
       "    }\n",
       "\n",
       "    .dataframe tbody tr th {\n",
       "        vertical-align: top;\n",
       "    }\n",
       "\n",
       "    .dataframe thead th {\n",
       "        text-align: right;\n",
       "    }\n",
       "</style>\n",
       "<table border=\"1\" class=\"dataframe\">\n",
       "  <thead>\n",
       "    <tr style=\"text-align: right;\">\n",
       "      <th></th>\n",
       "      <th>Fare</th>\n",
       "    </tr>\n",
       "    <tr>\n",
       "      <th>Sex</th>\n",
       "      <th></th>\n",
       "    </tr>\n",
       "  </thead>\n",
       "  <tbody>\n",
       "    <tr>\n",
       "      <th>female</th>\n",
       "      <td>44.479818</td>\n",
       "    </tr>\n",
       "    <tr>\n",
       "      <th>male</th>\n",
       "      <td>25.523893</td>\n",
       "    </tr>\n",
       "  </tbody>\n",
       "</table>\n",
       "</div>"
      ],
      "text/plain": [
       "             Fare\n",
       "Sex              \n",
       "female  44.479818\n",
       "male    25.523893"
      ]
     },
     "execution_count": 8,
     "metadata": {},
     "output_type": "execute_result"
    }
   ],
   "source": [
    "group_df"
   ]
  },
  {
   "cell_type": "markdown",
   "id": "e48a3a4c-513d-425c-af0f-a87dee049932",
   "metadata": {},
   "source": [
    "5. `df.plot()`: This function is used to create a plot of the DataFrame. It can be used to create different types of plots, such as line plots, scatter plots, and bar plots."
   ]
  },
  {
   "cell_type": "code",
   "execution_count": 18,
   "id": "43347deb-6c57-4b34-8771-b3ba6a1a018b",
   "metadata": {},
   "outputs": [
    {
     "data": {
      "image/png": "[encoded data removed]",
      "text/plain": [
       "<Figure size 500x300 with 2 Axes>"
      ]
     },
     "metadata": {},
     "output_type": "display_data"
    }
   ],
   "source": [
    "ax = df.plot.box(by='Sex',column=['Fare','Age'],figsize=(5,3))"
   ]
  },
  {
   "cell_type": "markdown",
   "id": "b1776867-40c8-4564-b269-f45fb3f2ac11",
   "metadata": {},
   "source": [
    "![green-divider](https://user-images.githubusercontent.com/7065401/52071924-c003ad80-2562-11e9-8297-1c6595f8a7ff.png)"
   ]
  },
  {
   "cell_type": "markdown",
   "id": "d607f062-884e-4a6d-ba1d-f3f4f6bdc09f",
   "metadata": {},
   "source": [
    "## Q2. Given a Pandas DataFrame df with columns 'A', 'B', and 'C', write a Python function to re-index the DataFrame with a new index that starts from 1 and increments by 2 for each row."
   ]
  },
  {
   "cell_type": "markdown",
   "id": "5f58c06d-6911-4b87-800c-1bd6bb419dd9",
   "metadata": {},
   "source": [
    "### Answer\n",
    "\n",
    " Here's a Python function that re-indexes a Pandas DataFrame with a new index that starts from 1 and increments by 2 for each row:"
   ]
  },
  {
   "cell_type": "code",
   "execution_count": 40,
   "id": "0cb5263c-5b75-4675-adab-d0e16c91f40a",
   "metadata": {},
   "outputs": [],
   "source": [
    "def reindex_dataframe(df):\n",
    "    \n",
    "    # Create a new index that starts from 1 and increments by 2\n",
    "    new_index = range(1, len(df) * 2, 2)\n",
    "    \n",
    "    # Reindex the DataFrame with the new index\n",
    "    df = df.reindex(new_index)\n",
    "    \n",
    "    # Return the reindexed DataFrame\n",
    "    return df\n"
   ]
  },
  {
   "cell_type": "markdown",
   "id": "c4661030-e145-4de8-a97d-6da24a5b89cb",
   "metadata": {},
   "source": [
    "To use this function, you can pass your DataFrame as an argument:"
   ]
  },
  {
   "cell_type": "code",
   "execution_count": 41,
   "id": "976673ed-bd45-47f5-8629-67bba7555161",
   "metadata": {},
   "outputs": [
    {
     "data": {
      "text/html": [
       "<div>\n",
       "<style scoped>\n",
       "    .dataframe tbody tr th:only-of-type {\n",
       "        vertical-align: middle;\n",
       "    }\n",
       "\n",
       "    .dataframe tbody tr th {\n",
       "        vertical-align: top;\n",
       "    }\n",
       "\n",
       "    .dataframe thead th {\n",
       "        text-align: right;\n",
       "    }\n",
       "</style>\n",
       "<table border=\"1\" class=\"dataframe\">\n",
       "  <thead>\n",
       "    <tr style=\"text-align: right;\">\n",
       "      <th></th>\n",
       "      <th>A</th>\n",
       "      <th>B</th>\n",
       "      <th>C</th>\n",
       "    </tr>\n",
       "  </thead>\n",
       "  <tbody>\n",
       "    <tr>\n",
       "      <th>0</th>\n",
       "      <td>1</td>\n",
       "      <td>4</td>\n",
       "      <td>7</td>\n",
       "    </tr>\n",
       "    <tr>\n",
       "      <th>1</th>\n",
       "      <td>2</td>\n",
       "      <td>5</td>\n",
       "      <td>8</td>\n",
       "    </tr>\n",
       "    <tr>\n",
       "      <th>2</th>\n",
       "      <td>3</td>\n",
       "      <td>6</td>\n",
       "      <td>9</td>\n",
       "    </tr>\n",
       "  </tbody>\n",
       "</table>\n",
       "</div>"
      ],
      "text/plain": [
       "   A  B  C\n",
       "0  1  4  7\n",
       "1  2  5  8\n",
       "2  3  6  9"
      ]
     },
     "execution_count": 41,
     "metadata": {},
     "output_type": "execute_result"
    }
   ],
   "source": [
    "# Create a sample DataFrame\n",
    "df = pd.DataFrame({'A': [1, 2, 3], 'B': [4, 5, 6], 'C': [7, 8, 9]})\n",
    "\n",
    "\n",
    "df \n"
   ]
  },
  {
   "cell_type": "code",
   "execution_count": 42,
   "id": "142f5c6f-9a66-45c1-a425-dc33c17a7127",
   "metadata": {},
   "outputs": [],
   "source": [
    "df = reindex_dataframe(df)"
   ]
  },
  {
   "cell_type": "code",
   "execution_count": 43,
   "id": "d40d807f-883c-4fb1-8ab2-e0f399e1e449",
   "metadata": {},
   "outputs": [
    {
     "data": {
      "text/html": [
       "<div>\n",
       "<style scoped>\n",
       "    .dataframe tbody tr th:only-of-type {\n",
       "        vertical-align: middle;\n",
       "    }\n",
       "\n",
       "    .dataframe tbody tr th {\n",
       "        vertical-align: top;\n",
       "    }\n",
       "\n",
       "    .dataframe thead th {\n",
       "        text-align: right;\n",
       "    }\n",
       "</style>\n",
       "<table border=\"1\" class=\"dataframe\">\n",
       "  <thead>\n",
       "    <tr style=\"text-align: right;\">\n",
       "      <th></th>\n",
       "      <th>A</th>\n",
       "      <th>B</th>\n",
       "      <th>C</th>\n",
       "    </tr>\n",
       "  </thead>\n",
       "  <tbody>\n",
       "    <tr>\n",
       "      <th>1</th>\n",
       "      <td>2.0</td>\n",
       "      <td>5.0</td>\n",
       "      <td>8.0</td>\n",
       "    </tr>\n",
       "    <tr>\n",
       "      <th>3</th>\n",
       "      <td>NaN</td>\n",
       "      <td>NaN</td>\n",
       "      <td>NaN</td>\n",
       "    </tr>\n",
       "    <tr>\n",
       "      <th>5</th>\n",
       "      <td>NaN</td>\n",
       "      <td>NaN</td>\n",
       "      <td>NaN</td>\n",
       "    </tr>\n",
       "  </tbody>\n",
       "</table>\n",
       "</div>"
      ],
      "text/plain": [
       "     A    B    C\n",
       "1  2.0  5.0  8.0\n",
       "3  NaN  NaN  NaN\n",
       "5  NaN  NaN  NaN"
      ]
     },
     "execution_count": 43,
     "metadata": {},
     "output_type": "execute_result"
    }
   ],
   "source": [
    "df"
   ]
  },
  {
   "cell_type": "markdown",
   "id": "9abc62fa-1e6a-42d1-9801-0d8b9343305a",
   "metadata": {},
   "source": [
    "![green-divider](https://user-images.githubusercontent.com/7065401/52071924-c003ad80-2562-11e9-8297-1c6595f8a7ff.png)"
   ]
  },
  {
   "cell_type": "markdown",
   "id": "6ecf9f72-3c25-4102-be34-cb0eb8391517",
   "metadata": {},
   "source": [
    "## Q3. You have a Pandas DataFrame df with a column named 'Values'. Write a Python function that iterates over the DataFrame and calculates the sum of the first three values in the 'Values' column. The function should print the sum to the console.\n",
    "\n",
    "### For example, if the 'Values' column of df contains the values [10, 20, 30, 40, 50], your function should calculate and print the sum of the first three values, which is 60."
   ]
  },
  {
   "cell_type": "markdown",
   "id": "441061e6-13d3-458e-8aa4-df0204ef9426",
   "metadata": {},
   "source": [
    "## Answer"
   ]
  },
  {
   "cell_type": "markdown",
   "id": "4d8eeb31-8d56-40a5-8bfb-c6b8a87cac3b",
   "metadata": {},
   "source": [
    " Here's a Python function that iterates over a Pandas DataFrame and calculates the sum of the first three values in the 'Values' column:"
   ]
  },
  {
   "cell_type": "code",
   "execution_count": 44,
   "id": "e15cc367-ee23-4de8-b5bc-24f7de9be600",
   "metadata": {},
   "outputs": [],
   "source": [
    "def sum_first_three_values(df):\n",
    "    # Get the first three values in the 'Values' column\n",
    "    first_3_rows = df['Values'].iloc[:3]\n",
    "    \n",
    "    # Calculate the sum of the first three values\n",
    "    sum_rows = first_3_rows.sum()\n",
    "    \n",
    "    # Print the sum to the console\n",
    "    print(\"The sum of the first three values in the 'Values' column is:\", sum_rows)"
   ]
  },
  {
   "cell_type": "markdown",
   "id": "b9740eaa-8018-4f24-8400-08d2653ddc27",
   "metadata": {},
   "source": [
    "To use this function, you can pass your DataFrame as an argument:"
   ]
  },
  {
   "cell_type": "code",
   "execution_count": 49,
   "id": "526f20fe-77e9-400f-a83c-4071ebe36958",
   "metadata": {},
   "outputs": [
    {
     "data": {
      "text/html": [
       "<div>\n",
       "<style scoped>\n",
       "    .dataframe tbody tr th:only-of-type {\n",
       "        vertical-align: middle;\n",
       "    }\n",
       "\n",
       "    .dataframe tbody tr th {\n",
       "        vertical-align: top;\n",
       "    }\n",
       "\n",
       "    .dataframe thead th {\n",
       "        text-align: right;\n",
       "    }\n",
       "</style>\n",
       "<table border=\"1\" class=\"dataframe\">\n",
       "  <thead>\n",
       "    <tr style=\"text-align: right;\">\n",
       "      <th></th>\n",
       "      <th>Values</th>\n",
       "    </tr>\n",
       "  </thead>\n",
       "  <tbody>\n",
       "    <tr>\n",
       "      <th>0</th>\n",
       "      <td>10</td>\n",
       "    </tr>\n",
       "    <tr>\n",
       "      <th>1</th>\n",
       "      <td>20</td>\n",
       "    </tr>\n",
       "    <tr>\n",
       "      <th>2</th>\n",
       "      <td>30</td>\n",
       "    </tr>\n",
       "    <tr>\n",
       "      <th>3</th>\n",
       "      <td>40</td>\n",
       "    </tr>\n",
       "    <tr>\n",
       "      <th>4</th>\n",
       "      <td>50</td>\n",
       "    </tr>\n",
       "  </tbody>\n",
       "</table>\n",
       "</div>"
      ],
      "text/plain": [
       "   Values\n",
       "0      10\n",
       "1      20\n",
       "2      30\n",
       "3      40\n",
       "4      50"
      ]
     },
     "execution_count": 49,
     "metadata": {},
     "output_type": "execute_result"
    }
   ],
   "source": [
    "# Create a sample DataFrame\n",
    "df = pd.DataFrame({'Values': [10, 20, 30, 40, 50]})\n",
    "df"
   ]
  },
  {
   "cell_type": "markdown",
   "id": "a47777ab-097e-491c-bc91-4c5634fe47c7",
   "metadata": {},
   "source": [
    "Call the `sum_first_three_values` function"
   ]
  },
  {
   "cell_type": "code",
   "execution_count": 50,
   "id": "06a47601-041a-4c29-8352-e71f3897fe8e",
   "metadata": {},
   "outputs": [
    {
     "name": "stdout",
     "output_type": "stream",
     "text": [
      "The sum of the first three values in the 'Values' column is: 60\n"
     ]
    }
   ],
   "source": [
    "sum_first_three_values(df)"
   ]
  },
  {
   "cell_type": "markdown",
   "id": "76730a49-bcbc-458d-bf7d-60ab6d2e58c6",
   "metadata": {},
   "source": [
    "![green-divider](https://user-images.githubusercontent.com/7065401/52071924-c003ad80-2562-11e9-8297-1c6595f8a7ff.png)"
   ]
  },
  {
   "cell_type": "markdown",
   "id": "44704300-4dd9-44aa-9248-5be46d253ac8",
   "metadata": {},
   "source": [
    "## Q4. Given a Pandas DataFrame df with a column 'Text', write a Python function to create a new column 'Word_Count' that contains the number of words in each row of the 'Text' column."
   ]
  },
  {
   "cell_type": "markdown",
   "id": "4b98b93c-5351-4796-b3d4-4a82c95c214d",
   "metadata": {},
   "source": [
    "### Answer:\n",
    "\n",
    "Here's a Python function that creates a new column 'Word_Count' in a Pandas DataFrame based on the number of words in the 'Text' column:"
   ]
  },
  {
   "cell_type": "code",
   "execution_count": 51,
   "id": "bdd73ba3-eca1-4597-8aee-6bebe36c22af",
   "metadata": {},
   "outputs": [],
   "source": [
    "def add_word_count_column(df):\n",
    "    # Split the 'Text' column into a list of words\n",
    "    words_list = df['Text'].str.split()\n",
    "    \n",
    "    # Count the number of words in each row and add the result as a new column\n",
    "    df['Word_Count'] = words_list.apply(lambda x: len(x))\n",
    "    \n",
    "    # Return the modified DataFrame\n",
    "    return df"
   ]
  },
  {
   "cell_type": "markdown",
   "id": "201dabb3-d626-45b2-a486-977505def25a",
   "metadata": {},
   "source": [
    "To use this function, you can pass your DataFrame as an argument:"
   ]
  },
  {
   "cell_type": "code",
   "execution_count": 53,
   "id": "99c46a8e-90e4-4d24-ade9-255bb71b70e7",
   "metadata": {},
   "outputs": [
    {
     "data": {
      "text/html": [
       "<div>\n",
       "<style scoped>\n",
       "    .dataframe tbody tr th:only-of-type {\n",
       "        vertical-align: middle;\n",
       "    }\n",
       "\n",
       "    .dataframe tbody tr th {\n",
       "        vertical-align: top;\n",
       "    }\n",
       "\n",
       "    .dataframe thead th {\n",
       "        text-align: right;\n",
       "    }\n",
       "</style>\n",
       "<table border=\"1\" class=\"dataframe\">\n",
       "  <thead>\n",
       "    <tr style=\"text-align: right;\">\n",
       "      <th></th>\n",
       "      <th>Text</th>\n",
       "      <th>Word_Count</th>\n",
       "    </tr>\n",
       "  </thead>\n",
       "  <tbody>\n",
       "    <tr>\n",
       "      <th>0</th>\n",
       "      <td>This is a sample sentence.</td>\n",
       "      <td>5</td>\n",
       "    </tr>\n",
       "    <tr>\n",
       "      <th>1</th>\n",
       "      <td>This is another sentence.</td>\n",
       "      <td>4</td>\n",
       "    </tr>\n",
       "    <tr>\n",
       "      <th>2</th>\n",
       "      <td>Yet another sentence.</td>\n",
       "      <td>3</td>\n",
       "    </tr>\n",
       "  </tbody>\n",
       "</table>\n",
       "</div>"
      ],
      "text/plain": [
       "                         Text  Word_Count\n",
       "0  This is a sample sentence.           5\n",
       "1   This is another sentence.           4\n",
       "2       Yet another sentence.           3"
      ]
     },
     "execution_count": 53,
     "metadata": {},
     "output_type": "execute_result"
    }
   ],
   "source": [
    "# Create a sample DataFrame\n",
    "df = pd.DataFrame({'Text': ['This is a sample sentence.', 'This is another sentence.', 'Yet another sentence.']})\n",
    "\n",
    "# Call the add_word_count_column function\n",
    "df = add_word_count_column(df)\n",
    "\n",
    "# Print the modified DataFrame\n",
    "df\n"
   ]
  },
  {
   "cell_type": "markdown",
   "id": "94e049a2-6c61-4a73-913b-b3800fa91bbb",
   "metadata": {},
   "source": [
    "![green-divider](https://user-images.githubusercontent.com/7065401/52071924-c003ad80-2562-11e9-8297-1c6595f8a7ff.png)"
   ]
  },
  {
   "cell_type": "markdown",
   "id": "4e8478d9-5394-405a-ab9a-54fa619d2c99",
   "metadata": {},
   "source": [
    "## Q5. How are DataFrame.size() and DataFrame.shape() different?"
   ]
  },
  {
   "cell_type": "markdown",
   "id": "7f2a51da-462e-4894-86b1-9066427bd586",
   "metadata": {},
   "source": [
    "### Answer:\n",
    "\n",
    "Both `DataFrame.size` and `DataFrame.shape` are used to get information about the dimensions of a Pandas DataFrame, but they return different types of information.\n",
    "\n",
    "- `DataFrame.size` returns the total number of elements in the DataFrame. It is equivalent to the product of the number of rows and the number of columns in the DataFrame.\n",
    "\n",
    "- `DataFrame.shape` returns a tuple containing the number of rows and the number of columns in the DataFrame. It is a more commonly used attribute for getting information about the dimensions of a DataFrame.\n",
    "\n",
    "Here's an example that illustrates the difference:"
   ]
  },
  {
   "cell_type": "code",
   "execution_count": 54,
   "id": "b788fee3-3248-4883-8158-02b3e57345d5",
   "metadata": {},
   "outputs": [],
   "source": [
    "# Create a sample DataFrame\n",
    "df = pd.DataFrame({'A': [1, 2, 3], 'B': [4, 5, 6], 'C': [7, 8, 9]})"
   ]
  },
  {
   "cell_type": "code",
   "execution_count": 58,
   "id": "707004b6-88ff-4043-80ad-0ed2f8be9c8f",
   "metadata": {},
   "outputs": [],
   "source": [
    "size = df.size"
   ]
  },
  {
   "cell_type": "code",
   "execution_count": 59,
   "id": "8078367f-fa2e-4c02-9ef8-9b6526b1a1a3",
   "metadata": {},
   "outputs": [],
   "source": [
    "shape = df.shape\n"
   ]
  },
  {
   "cell_type": "code",
   "execution_count": 60,
   "id": "0475e6c7-21f4-49b0-b682-32f3ca16533f",
   "metadata": {},
   "outputs": [
    {
     "name": "stdout",
     "output_type": "stream",
     "text": [
      "Size of the DataFrame: 9\n",
      "Shape of the DataFrame: (3, 3)\n"
     ]
    }
   ],
   "source": [
    "# Print the results\n",
    "print(\"Size of the DataFrame:\", size)\n",
    "print(\"Shape of the DataFrame:\", shape)"
   ]
  },
  {
   "cell_type": "markdown",
   "id": "8a203b1c-f936-415c-bd02-82de43e926d4",
   "metadata": {},
   "source": [
    "![green-divider](https://user-images.githubusercontent.com/7065401/52071924-c003ad80-2562-11e9-8297-1c6595f8a7ff.png)"
   ]
  },
  {
   "cell_type": "markdown",
   "id": "32d43c4d-ec3a-4a88-8d0d-90190d463844",
   "metadata": {},
   "source": [
    "## Q6. Which function of pandas do we use to read an excel file?"
   ]
  },
  {
   "cell_type": "markdown",
   "id": "8d597148-521a-4aec-b1aa-82d4002022ad",
   "metadata": {},
   "source": [
    "### Answer:\n",
    "\n",
    "To read an Excel file in pandas, you can use the read_excel() function. This function is part of the pandas library and allows you to read Excel files in various formats, including .xls and .xlsx.\n",
    "\n",
    "Here's an example of how to use read_excel() to read an Excel file:"
   ]
  },
  {
   "cell_type": "code",
   "execution_count": 63,
   "id": "7ff19843-6e06-4579-9b47-964d9ae4ba23",
   "metadata": {},
   "outputs": [],
   "source": [
    "# Read an Excel file into a DataFrame\n",
    "df = pd.read_excel('example.xlsx')\n",
    "\n",
    "# Print the DataFrame\n",
    "print(df)"
   ]
  },
  {
   "cell_type": "markdown",
   "id": "cf94dfb5-3594-4ea9-af4b-096d537d5151",
   "metadata": {},
   "source": [
    "In this example, the `read_excel()` function reads the Excel file named `example.xlsx` into a Pandas DataFrame. The resulting DataFrame can be used for further analysis or manipulation.\n",
    "\n",
    "Note that `read_excel()` can also accept various parameters to specify the sheet name, the range of cells to read, and other options related to the Excel file format. For more information, you can refer to the pandas documentation."
   ]
  },
  {
   "cell_type": "markdown",
   "id": "1a9a700e-d7aa-4c36-ae94-a7f3db10c5d8",
   "metadata": {},
   "source": [
    "![green-divider](https://user-images.githubusercontent.com/7065401/52071924-c003ad80-2562-11e9-8297-1c6595f8a7ff.png)"
   ]
  },
  {
   "cell_type": "markdown",
   "id": "65fbfb95-07cf-4714-a17b-d9af07ce8112",
   "metadata": {},
   "source": [
    "## Q7. You have a Pandas DataFrame df that contains a column named `'Email'` that contains email addresses in the format `'username@domain.com'`. Write a Python function that creates a new column `'Username'` in df that contains only the username part of each email address. The username is the part of the email address that appears before the '@' symbol. \n",
    "\n",
    "- For example, if the email address is `'john.doe@example.com'`, the `'Username'` column should contain `'john.doe'`. Your function should extract the username from each email address and store it in the new 'Username' column."
   ]
  },
  {
   "cell_type": "markdown",
   "id": "177f37d3-e3e6-4791-9045-34b02c1cebd2",
   "metadata": {},
   "source": [
    "### Answer:\n",
    "\n",
    "Here's a Python function that creates a new column 'Username' in a Pandas DataFrame based on the username part of the email addresses in the 'Email' column:"
   ]
  },
  {
   "cell_type": "code",
   "execution_count": 67,
   "id": "cd4800af-053a-4d50-9df8-00e52ce78348",
   "metadata": {},
   "outputs": [],
   "source": [
    "def extract_username(df):\n",
    "    # Use the str.split() method to split the 'Email' column into username and domain\n",
    "    df['Username'] = df['Email'].str.split('@').str[0]\n",
    "    \n",
    "    # Return the modified DataFrame\n",
    "    return df"
   ]
  },
  {
   "cell_type": "markdown",
   "id": "464c882e-1c97-4f98-bd40-c6abe6e54bdc",
   "metadata": {},
   "source": [
    "To use this function, you can pass your DataFrame as an argument:"
   ]
  },
  {
   "cell_type": "code",
   "execution_count": 68,
   "id": "d8c44564-2aa6-4811-9411-173bdb171f32",
   "metadata": {},
   "outputs": [
    {
     "data": {
      "text/html": [
       "<div>\n",
       "<style scoped>\n",
       "    .dataframe tbody tr th:only-of-type {\n",
       "        vertical-align: middle;\n",
       "    }\n",
       "\n",
       "    .dataframe tbody tr th {\n",
       "        vertical-align: top;\n",
       "    }\n",
       "\n",
       "    .dataframe thead th {\n",
       "        text-align: right;\n",
       "    }\n",
       "</style>\n",
       "<table border=\"1\" class=\"dataframe\">\n",
       "  <thead>\n",
       "    <tr style=\"text-align: right;\">\n",
       "      <th></th>\n",
       "      <th>Email</th>\n",
       "      <th>Username</th>\n",
       "    </tr>\n",
       "  </thead>\n",
       "  <tbody>\n",
       "    <tr>\n",
       "      <th>0</th>\n",
       "      <td>john@example.com</td>\n",
       "      <td>john</td>\n",
       "    </tr>\n",
       "    <tr>\n",
       "      <th>1</th>\n",
       "      <td>jane@example.com</td>\n",
       "      <td>jane</td>\n",
       "    </tr>\n",
       "    <tr>\n",
       "      <th>2</th>\n",
       "      <td>jim@example.com</td>\n",
       "      <td>jim</td>\n",
       "    </tr>\n",
       "  </tbody>\n",
       "</table>\n",
       "</div>"
      ],
      "text/plain": [
       "              Email Username\n",
       "0  john@example.com     john\n",
       "1  jane@example.com     jane\n",
       "2   jim@example.com      jim"
      ]
     },
     "execution_count": 68,
     "metadata": {},
     "output_type": "execute_result"
    }
   ],
   "source": [
    "# Create a sample DataFrame\n",
    "df = pd.DataFrame({'Email': ['john@example.com', 'jane@example.com', 'jim@example.com']})\n",
    "\n",
    "# Call the extract_username function\n",
    "df = extract_username(df)\n",
    "\n",
    "# Print the modified DataFrame\n",
    "df\n"
   ]
  },
  {
   "cell_type": "markdown",
   "id": "5a741d7b-78b3-477d-910c-8b3cd88f080d",
   "metadata": {},
   "source": [
    "![green-divider](https://user-images.githubusercontent.com/7065401/52071924-c003ad80-2562-11e9-8297-1c6595f8a7ff.png)"
   ]
  },
  {
   "cell_type": "markdown",
   "id": "477da393-ad82-4ea3-8fc7-17bf07a36d7d",
   "metadata": {},
   "source": [
    "## Q8. You have a Pandas DataFrame df with columns 'A', 'B', and 'C'. Write a Python function that selects all rows where the value in column 'A' is greater than 5 and the value in column 'B' is less than 10. The function should return a new DataFrame that contains only the selected rows.\n",
    "\n",
    "- For example, if df contains the following values:\n",
    "\n",
    "| A | B | C |\n",
    "|---|---|---|\n",
    "| 3 | 5 | 1 |\n",
    "| 8 | 2 | 7 |\n",
    "| 6 | 9 | 4 |\n",
    "| 2 | 3 | 5 |\n",
    "| 9 | 1 | 2 |\n",
    "\n",
    "Your function should select the following rows:\n",
    "|A |B |C |\n",
    "|--|--|--|\n",
    "|8 |2 |7 |\n",
    "|9 |1 |2 |\n",
    "\n"
   ]
  },
  {
   "cell_type": "markdown",
   "id": "e299f121-fc7d-4da1-9ac7-299866386ff0",
   "metadata": {},
   "source": [
    "### Answer:\n",
    "\n",
    " Here's a Python function that selects all rows from a Pandas DataFrame based on the conditions specified:"
   ]
  },
  {
   "cell_type": "code",
   "execution_count": 1,
   "id": "3a4bbf9b-213f-4878-9fdf-002e5bf26a45",
   "metadata": {},
   "outputs": [],
   "source": [
    "def select_rows(df):\n",
    "    # Create a boolean mask based on the conditions specified\n",
    "    mask = (df['A'] > 5) & (df['B'] < 10)\n",
    "    \n",
    "    # Use the boolean mask to select the rows that satisfy the conditions\n",
    "    new_df = df.loc[mask]\n",
    "    \n",
    "    # Return the new DataFrame\n",
    "    return new_df\n"
   ]
  },
  {
   "cell_type": "markdown",
   "id": "a7bcd8b6-bbf5-4fa0-94d3-1e87a0ee3021",
   "metadata": {},
   "source": [
    "To use this function, you can pass your DataFrame as an argument:"
   ]
  },
  {
   "cell_type": "code",
   "execution_count": 5,
   "id": "2765ded6-bd4f-44d2-92ba-3aef78a12d2c",
   "metadata": {},
   "outputs": [
    {
     "data": {
      "text/html": [
       "<div>\n",
       "<style scoped>\n",
       "    .dataframe tbody tr th:only-of-type {\n",
       "        vertical-align: middle;\n",
       "    }\n",
       "\n",
       "    .dataframe tbody tr th {\n",
       "        vertical-align: top;\n",
       "    }\n",
       "\n",
       "    .dataframe thead th {\n",
       "        text-align: right;\n",
       "    }\n",
       "</style>\n",
       "<table border=\"1\" class=\"dataframe\">\n",
       "  <thead>\n",
       "    <tr style=\"text-align: right;\">\n",
       "      <th></th>\n",
       "      <th>A</th>\n",
       "      <th>B</th>\n",
       "      <th>C</th>\n",
       "    </tr>\n",
       "  </thead>\n",
       "  <tbody>\n",
       "    <tr>\n",
       "      <th>1</th>\n",
       "      <td>8</td>\n",
       "      <td>2</td>\n",
       "      <td>7</td>\n",
       "    </tr>\n",
       "    <tr>\n",
       "      <th>2</th>\n",
       "      <td>6</td>\n",
       "      <td>9</td>\n",
       "      <td>4</td>\n",
       "    </tr>\n",
       "    <tr>\n",
       "      <th>4</th>\n",
       "      <td>9</td>\n",
       "      <td>1</td>\n",
       "      <td>2</td>\n",
       "    </tr>\n",
       "  </tbody>\n",
       "</table>\n",
       "</div>"
      ],
      "text/plain": [
       "   A  B  C\n",
       "1  8  2  7\n",
       "2  6  9  4\n",
       "4  9  1  2"
      ]
     },
     "execution_count": 5,
     "metadata": {},
     "output_type": "execute_result"
    }
   ],
   "source": [
    "# Create a sample DataFrame\n",
    "df = pd.DataFrame({'A': [3, 8, 6, 2, 9], 'B': [5, 2, 9, 3, 1], 'C': [1, 7, 4, 5, 2]})\n",
    "\n",
    "# Call the select_rows function\n",
    "new_df = select_rows(df)\n",
    "\n",
    "# Print the new DataFrame\n",
    "new_df\n",
    "\n"
   ]
  },
  {
   "cell_type": "markdown",
   "id": "892ce57c-5602-4ef8-b901-5407922d41cc",
   "metadata": {},
   "source": [
    "![green-divider](https://user-images.githubusercontent.com/7065401/52071924-c003ad80-2562-11e9-8297-1c6595f8a7ff.png)"
   ]
  },
  {
   "cell_type": "markdown",
   "id": "140dd348-7917-4e99-a980-e865bb986327",
   "metadata": {},
   "source": [
    "## Q9. Given a Pandas DataFrame df with a column 'Values', write a Python function to calculate the mean, median, and standard deviation of the values in the 'Values' column."
   ]
  },
  {
   "cell_type": "markdown",
   "id": "4de95149-3d21-4269-b336-db508337286d",
   "metadata": {},
   "source": [
    "### Answer:\n",
    "\n",
    "Here is a Python function that calculates the mean, median, and standard deviation of a DataFrame's 'Values' column using the Pandas library:"
   ]
  },
  {
   "cell_type": "code",
   "execution_count": 6,
   "id": "4f367876-855e-41b2-8172-dc438ebd2be1",
   "metadata": {},
   "outputs": [],
   "source": [
    "def calculate_statistics(df):\n",
    "    # Calculate mean, median, and standard deviation of 'Values' column\n",
    "    mean = df['Values'].mean()\n",
    "    median = df['Values'].median()\n",
    "    std_dev = df['Values'].std()\n",
    "    \n",
    "    # Print results to console\n",
    "    print(\"Mean: \", mean)\n",
    "    print(\"Median: \", median)\n",
    "    print(\"Standard Deviation: \", std_dev)"
   ]
  },
  {
   "cell_type": "markdown",
   "id": "3078d29f-e124-4732-9738-c689345dd1db",
   "metadata": {},
   "source": [
    "Call this function on your DataFrame `df` as follows:"
   ]
  },
  {
   "cell_type": "code",
   "execution_count": 7,
   "id": "9a3e6b4c-d776-422b-be8a-8edee18478f4",
   "metadata": {},
   "outputs": [],
   "source": [
    "# Create a sample DataFrame\n",
    "df = pd.DataFrame({'Values': [1, 2, 3, 4, 5,23,12,9]})"
   ]
  },
  {
   "cell_type": "code",
   "execution_count": 8,
   "id": "0b6e9565-b011-44f3-934c-dacd5e747f6b",
   "metadata": {},
   "outputs": [
    {
     "name": "stdout",
     "output_type": "stream",
     "text": [
      "Mean:  7.375\n",
      "Median:  4.5\n",
      "Standard Deviation:  7.3082634247620195\n"
     ]
    }
   ],
   "source": [
    "# Call the calculate_statistics function\n",
    "calculate_statistics(df)"
   ]
  },
  {
   "cell_type": "markdown",
   "id": "fcf317d8-ef55-4c0b-8cbc-001db049739a",
   "metadata": {},
   "source": [
    "![green-divider](https://user-images.githubusercontent.com/7065401/52071924-c003ad80-2562-11e9-8297-1c6595f8a7ff.png)"
   ]
  },
  {
   "cell_type": "markdown",
   "id": "a96b2cd5-5c85-4bb5-a42d-f71642541e8a",
   "metadata": {},
   "source": [
    "## Q10. Given a Pandas DataFrame df with a column 'Sales' and a column 'Date', write a Python function to create a new column 'MovingAverage' that contains the moving average of the sales for the past 7 days for each row in the DataFrame. The moving average should be calculated using a window of size 7 and should include the current day."
   ]
  },
  {
   "cell_type": "markdown",
   "id": "b3ceedc7-d504-485e-9db3-564f80d926fc",
   "metadata": {},
   "source": [
    "### Answer:\n",
    "\n",
    "Here's an example of how you can use the rolling method to calculate the moving average of the sales for the past 7 days:"
   ]
  },
  {
   "cell_type": "code",
   "execution_count": 9,
   "id": "6f0006de-54d2-4453-9f34-1c7572d2525c",
   "metadata": {},
   "outputs": [],
   "source": [
    "def add_moving_average(df):\n",
    "    # Sort DataFrame by date\n",
    "    df.sort_values('Date', inplace=True)\n",
    "\n",
    "    # Calculate moving average of 'Sales' over past 7 days\n",
    "    rolling_average = df['Sales'].rolling(window=7, min_periods=1).mean()\n",
    "\n",
    "    # Add 'MovingAverage' column to DataFrame\n",
    "    df['MovingAverage'] = rolling_average\n",
    "\n",
    "    return df"
   ]
  },
  {
   "cell_type": "code",
   "execution_count": 10,
   "id": "120fb55f-2f6f-429e-9fb7-f1b062cfb49c",
   "metadata": {},
   "outputs": [],
   "source": [
    "# create sample dataframe\n",
    "df = pd.DataFrame({\n",
    "    'Sales': [10, 12, 15, 20, 18, 25, 22, 20, 28, 30, 35, 40],\n",
    "    'Date': pd.date_range('2022-01-01', '2022-01-12')\n",
    "})"
   ]
  },
  {
   "cell_type": "code",
   "execution_count": 11,
   "id": "f1eefd6c-ed76-4140-a907-5660e768dbbf",
   "metadata": {},
   "outputs": [],
   "source": [
    "df = add_moving_average(df)"
   ]
  },
  {
   "cell_type": "code",
   "execution_count": 12,
   "id": "1c8bc995-aeb1-44dc-98ae-c943ef23e15a",
   "metadata": {},
   "outputs": [
    {
     "data": {
      "text/html": [
       "<div>\n",
       "<style scoped>\n",
       "    .dataframe tbody tr th:only-of-type {\n",
       "        vertical-align: middle;\n",
       "    }\n",
       "\n",
       "    .dataframe tbody tr th {\n",
       "        vertical-align: top;\n",
       "    }\n",
       "\n",
       "    .dataframe thead th {\n",
       "        text-align: right;\n",
       "    }\n",
       "</style>\n",
       "<table border=\"1\" class=\"dataframe\">\n",
       "  <thead>\n",
       "    <tr style=\"text-align: right;\">\n",
       "      <th></th>\n",
       "      <th>Sales</th>\n",
       "      <th>Date</th>\n",
       "      <th>MovingAverage</th>\n",
       "    </tr>\n",
       "  </thead>\n",
       "  <tbody>\n",
       "    <tr>\n",
       "      <th>0</th>\n",
       "      <td>10</td>\n",
       "      <td>2022-01-01</td>\n",
       "      <td>10.000000</td>\n",
       "    </tr>\n",
       "    <tr>\n",
       "      <th>1</th>\n",
       "      <td>12</td>\n",
       "      <td>2022-01-02</td>\n",
       "      <td>11.000000</td>\n",
       "    </tr>\n",
       "    <tr>\n",
       "      <th>2</th>\n",
       "      <td>15</td>\n",
       "      <td>2022-01-03</td>\n",
       "      <td>12.333333</td>\n",
       "    </tr>\n",
       "    <tr>\n",
       "      <th>3</th>\n",
       "      <td>20</td>\n",
       "      <td>2022-01-04</td>\n",
       "      <td>14.250000</td>\n",
       "    </tr>\n",
       "    <tr>\n",
       "      <th>4</th>\n",
       "      <td>18</td>\n",
       "      <td>2022-01-05</td>\n",
       "      <td>15.000000</td>\n",
       "    </tr>\n",
       "    <tr>\n",
       "      <th>5</th>\n",
       "      <td>25</td>\n",
       "      <td>2022-01-06</td>\n",
       "      <td>16.666667</td>\n",
       "    </tr>\n",
       "    <tr>\n",
       "      <th>6</th>\n",
       "      <td>22</td>\n",
       "      <td>2022-01-07</td>\n",
       "      <td>17.428571</td>\n",
       "    </tr>\n",
       "    <tr>\n",
       "      <th>7</th>\n",
       "      <td>20</td>\n",
       "      <td>2022-01-08</td>\n",
       "      <td>18.857143</td>\n",
       "    </tr>\n",
       "    <tr>\n",
       "      <th>8</th>\n",
       "      <td>28</td>\n",
       "      <td>2022-01-09</td>\n",
       "      <td>21.142857</td>\n",
       "    </tr>\n",
       "    <tr>\n",
       "      <th>9</th>\n",
       "      <td>30</td>\n",
       "      <td>2022-01-10</td>\n",
       "      <td>23.285714</td>\n",
       "    </tr>\n",
       "    <tr>\n",
       "      <th>10</th>\n",
       "      <td>35</td>\n",
       "      <td>2022-01-11</td>\n",
       "      <td>25.428571</td>\n",
       "    </tr>\n",
       "    <tr>\n",
       "      <th>11</th>\n",
       "      <td>40</td>\n",
       "      <td>2022-01-12</td>\n",
       "      <td>28.571429</td>\n",
       "    </tr>\n",
       "  </tbody>\n",
       "</table>\n",
       "</div>"
      ],
      "text/plain": [
       "    Sales       Date  MovingAverage\n",
       "0      10 2022-01-01      10.000000\n",
       "1      12 2022-01-02      11.000000\n",
       "2      15 2022-01-03      12.333333\n",
       "3      20 2022-01-04      14.250000\n",
       "4      18 2022-01-05      15.000000\n",
       "5      25 2022-01-06      16.666667\n",
       "6      22 2022-01-07      17.428571\n",
       "7      20 2022-01-08      18.857143\n",
       "8      28 2022-01-09      21.142857\n",
       "9      30 2022-01-10      23.285714\n",
       "10     35 2022-01-11      25.428571\n",
       "11     40 2022-01-12      28.571429"
      ]
     },
     "execution_count": 12,
     "metadata": {},
     "output_type": "execute_result"
    }
   ],
   "source": [
    "df"
   ]
  },
  {
   "cell_type": "markdown",
   "id": "00427923-04c6-4742-bfc0-f5d70af965f8",
   "metadata": {},
   "source": [
    "![green-divider](https://user-images.githubusercontent.com/7065401/52071924-c003ad80-2562-11e9-8297-1c6595f8a7ff.png)"
   ]
  },
  {
   "cell_type": "markdown",
   "id": "9c1a9739-e8c6-42ca-a2e7-2f5b61c0dfd6",
   "metadata": {
    "tags": []
   },
   "source": [
    "## Q11. You have a Pandas DataFrame df with a column 'Date'. Write a Python function that creates a new column 'Weekday' in the DataFrame. The 'Weekday' column should contain the weekday name (e.g. Monday, Tuesday) corresponding to each date in the 'Date' column.\n",
    "\n",
    "- For example, if df contains the following values:\n",
    "| Date       |\n",
    "|------------|\n",
    "| 2023-01-01 |\n",
    "| 2023-01-02 |\n",
    "| 2023-01-03 |\n",
    "| 2023-01-04 |\n",
    "| 2023-01-05 |\n",
    "\n",
    "Your function should create the following DataFrame:\n",
    "\n",
    "| Date       | Weekday   |\n",
    "|------------|-----------|\n",
    "| 2023-01-01 | Sunday    |\n",
    "| 2023-01-02 | Monday    |\n",
    "| 2023-01-03 | Tuesday   |\n",
    "| 2023-01-04 | Wednesday |\n",
    "| 2023-01-05 | Thursday  |\n",
    "\n"
   ]
  },
  {
   "cell_type": "markdown",
   "id": "7f10e07c-a5ce-4621-a5ef-a076d5d74f8d",
   "metadata": {},
   "source": [
    "### Answer:\n",
    "\n",
    "You can use the `dt.weekday_name` property to get the weekday name from a date in a Pandas DataFrame. Here's an example Python function that creates a new column 'Weekday' in a DataFrame based on the 'Date' column:"
   ]
  },
  {
   "cell_type": "code",
   "execution_count": 17,
   "id": "ccabaad3-aa75-4a24-93ef-261334f05e24",
   "metadata": {},
   "outputs": [],
   "source": [
    "def add_weekday_column(df):\n",
    "    df['Weekday'] = pd.to_datetime(df['Date']).dt.strftime('%A')\n",
    "    return df"
   ]
  },
  {
   "cell_type": "markdown",
   "id": "dbfe0108-cbaf-4697-bce8-5e46134328bc",
   "metadata": {},
   "source": [
    "Here, we first convert the 'Date' column to a Pandas datetime format using the `pd.to_datetime` function. This function uses the `%A` format code to extract the full weekday name (e.g. \"Monday\", \"Tuesday\", etc.) and assigns the result to the `'Weekday'` column. You can then call this function on your DataFrame to add the new column:\n",
    "\n",
    "You can use this function on a DataFrame like this:"
   ]
  },
  {
   "cell_type": "code",
   "execution_count": 18,
   "id": "a4969b6b-afa6-46b4-b6e2-ca07687ccadc",
   "metadata": {},
   "outputs": [],
   "source": [
    "# create example DataFrame\n",
    "df = pd.DataFrame({'Date': ['2023-01-01', '2023-01-02', '2023-01-03', '2023-01-04', '2023-01-05']})\n"
   ]
  },
  {
   "cell_type": "code",
   "execution_count": 19,
   "id": "a868bf24-1fd5-410a-b888-e66849a2e2b4",
   "metadata": {},
   "outputs": [
    {
     "data": {
      "text/html": [
       "<div>\n",
       "<style scoped>\n",
       "    .dataframe tbody tr th:only-of-type {\n",
       "        vertical-align: middle;\n",
       "    }\n",
       "\n",
       "    .dataframe tbody tr th {\n",
       "        vertical-align: top;\n",
       "    }\n",
       "\n",
       "    .dataframe thead th {\n",
       "        text-align: right;\n",
       "    }\n",
       "</style>\n",
       "<table border=\"1\" class=\"dataframe\">\n",
       "  <thead>\n",
       "    <tr style=\"text-align: right;\">\n",
       "      <th></th>\n",
       "      <th>Date</th>\n",
       "    </tr>\n",
       "  </thead>\n",
       "  <tbody>\n",
       "    <tr>\n",
       "      <th>0</th>\n",
       "      <td>2023-01-01</td>\n",
       "    </tr>\n",
       "    <tr>\n",
       "      <th>1</th>\n",
       "      <td>2023-01-02</td>\n",
       "    </tr>\n",
       "    <tr>\n",
       "      <th>2</th>\n",
       "      <td>2023-01-03</td>\n",
       "    </tr>\n",
       "    <tr>\n",
       "      <th>3</th>\n",
       "      <td>2023-01-04</td>\n",
       "    </tr>\n",
       "    <tr>\n",
       "      <th>4</th>\n",
       "      <td>2023-01-05</td>\n",
       "    </tr>\n",
       "  </tbody>\n",
       "</table>\n",
       "</div>"
      ],
      "text/plain": [
       "         Date\n",
       "0  2023-01-01\n",
       "1  2023-01-02\n",
       "2  2023-01-03\n",
       "3  2023-01-04\n",
       "4  2023-01-05"
      ]
     },
     "execution_count": 19,
     "metadata": {},
     "output_type": "execute_result"
    }
   ],
   "source": [
    "df"
   ]
  },
  {
   "cell_type": "code",
   "execution_count": 20,
   "id": "fca5cb5f-f919-435f-b3f4-b826f071fae6",
   "metadata": {},
   "outputs": [],
   "source": [
    "# call function to add weekday column\n",
    "df = add_weekday_column(df)"
   ]
  },
  {
   "cell_type": "code",
   "execution_count": 21,
   "id": "3be96076-ab41-4926-b619-38929dd8aba7",
   "metadata": {},
   "outputs": [
    {
     "data": {
      "text/html": [
       "<div>\n",
       "<style scoped>\n",
       "    .dataframe tbody tr th:only-of-type {\n",
       "        vertical-align: middle;\n",
       "    }\n",
       "\n",
       "    .dataframe tbody tr th {\n",
       "        vertical-align: top;\n",
       "    }\n",
       "\n",
       "    .dataframe thead th {\n",
       "        text-align: right;\n",
       "    }\n",
       "</style>\n",
       "<table border=\"1\" class=\"dataframe\">\n",
       "  <thead>\n",
       "    <tr style=\"text-align: right;\">\n",
       "      <th></th>\n",
       "      <th>Date</th>\n",
       "      <th>Weekday</th>\n",
       "    </tr>\n",
       "  </thead>\n",
       "  <tbody>\n",
       "    <tr>\n",
       "      <th>0</th>\n",
       "      <td>2023-01-01</td>\n",
       "      <td>Sunday</td>\n",
       "    </tr>\n",
       "    <tr>\n",
       "      <th>1</th>\n",
       "      <td>2023-01-02</td>\n",
       "      <td>Monday</td>\n",
       "    </tr>\n",
       "    <tr>\n",
       "      <th>2</th>\n",
       "      <td>2023-01-03</td>\n",
       "      <td>Tuesday</td>\n",
       "    </tr>\n",
       "    <tr>\n",
       "      <th>3</th>\n",
       "      <td>2023-01-04</td>\n",
       "      <td>Wednesday</td>\n",
       "    </tr>\n",
       "    <tr>\n",
       "      <th>4</th>\n",
       "      <td>2023-01-05</td>\n",
       "      <td>Thursday</td>\n",
       "    </tr>\n",
       "  </tbody>\n",
       "</table>\n",
       "</div>"
      ],
      "text/plain": [
       "         Date    Weekday\n",
       "0  2023-01-01     Sunday\n",
       "1  2023-01-02     Monday\n",
       "2  2023-01-03    Tuesday\n",
       "3  2023-01-04  Wednesday\n",
       "4  2023-01-05   Thursday"
      ]
     },
     "execution_count": 21,
     "metadata": {},
     "output_type": "execute_result"
    }
   ],
   "source": [
    "df"
   ]
  },
  {
   "cell_type": "markdown",
   "id": "655006a5-f709-475e-9e37-87e7174cc3be",
   "metadata": {},
   "source": [
    "![green-divider](https://user-images.githubusercontent.com/7065401/52071924-c003ad80-2562-11e9-8297-1c6595f8a7ff.png)"
   ]
  },
  {
   "cell_type": "markdown",
   "id": "9940c83e-e63e-4ee3-99a1-26610364068e",
   "metadata": {},
   "source": [
    "## Q12. Given a Pandas DataFrame df with a column 'Date' that contains timestamps, write a Python function to select all rows where the date is between '2023-01-01' and '2023-01-31'."
   ]
  },
  {
   "cell_type": "markdown",
   "id": "713db770-28bf-49a6-9eb1-757efd41d589",
   "metadata": {},
   "source": [
    "## Answer:\n",
    "You can use boolean indexing to select all rows where the date is between '2023-01-01' and '2023-01-31'. Here's an example Python function that does this:"
   ]
  },
  {
   "cell_type": "code",
   "execution_count": 22,
   "id": "0f390f85-d5e1-46c4-901b-a805943afcbc",
   "metadata": {},
   "outputs": [],
   "source": [
    "def select_rows_between_dates(df):\n",
    "    mask = (df['Date'] >= '2023-01-01') & (df['Date'] <= '2023-01-31')\n",
    "    return df.loc[mask]\n"
   ]
  },
  {
   "cell_type": "markdown",
   "id": "ef627c97-4a5c-4086-8b3b-f107c4bc9ee6",
   "metadata": {},
   "source": [
    "This function creates a boolean mask using the `>=` and `<=` operators to check if each date in the 'Date' column falls between '2023-01-01' and '2023-01-31'. It then uses this mask to select the corresponding rows from the DataFrame using the `.loc[]` accessor."
   ]
  },
  {
   "cell_type": "markdown",
   "id": "02f76a76-6650-4895-8d83-86aa5e70b069",
   "metadata": {},
   "source": [
    "here is an example DataFrame with a 'Date' column containing timestamps:"
   ]
  },
  {
   "cell_type": "code",
   "execution_count": 23,
   "id": "cb4cfb10-4286-445f-8687-4da7da261fd8",
   "metadata": {},
   "outputs": [],
   "source": [
    "import pandas as pd\n",
    "import numpy as np\n",
    "\n",
    "# create example DataFrame\n",
    "dates = pd.date_range('2023-01-01', periods=50)\n",
    "values = np.random.randint(0, 10, size=50)\n",
    "df = pd.DataFrame({'Date': dates, 'Values': values})\n"
   ]
  },
  {
   "cell_type": "code",
   "execution_count": 24,
   "id": "0cb4a937-3673-4a49-96f8-9441e305a730",
   "metadata": {},
   "outputs": [
    {
     "data": {
      "text/html": [
       "<div>\n",
       "<style scoped>\n",
       "    .dataframe tbody tr th:only-of-type {\n",
       "        vertical-align: middle;\n",
       "    }\n",
       "\n",
       "    .dataframe tbody tr th {\n",
       "        vertical-align: top;\n",
       "    }\n",
       "\n",
       "    .dataframe thead th {\n",
       "        text-align: right;\n",
       "    }\n",
       "</style>\n",
       "<table border=\"1\" class=\"dataframe\">\n",
       "  <thead>\n",
       "    <tr style=\"text-align: right;\">\n",
       "      <th></th>\n",
       "      <th>Date</th>\n",
       "      <th>Values</th>\n",
       "    </tr>\n",
       "  </thead>\n",
       "  <tbody>\n",
       "    <tr>\n",
       "      <th>0</th>\n",
       "      <td>2023-01-01</td>\n",
       "      <td>1</td>\n",
       "    </tr>\n",
       "    <tr>\n",
       "      <th>1</th>\n",
       "      <td>2023-01-02</td>\n",
       "      <td>2</td>\n",
       "    </tr>\n",
       "    <tr>\n",
       "      <th>2</th>\n",
       "      <td>2023-01-03</td>\n",
       "      <td>9</td>\n",
       "    </tr>\n",
       "    <tr>\n",
       "      <th>3</th>\n",
       "      <td>2023-01-04</td>\n",
       "      <td>2</td>\n",
       "    </tr>\n",
       "    <tr>\n",
       "      <th>4</th>\n",
       "      <td>2023-01-05</td>\n",
       "      <td>2</td>\n",
       "    </tr>\n",
       "    <tr>\n",
       "      <th>5</th>\n",
       "      <td>2023-01-06</td>\n",
       "      <td>4</td>\n",
       "    </tr>\n",
       "    <tr>\n",
       "      <th>6</th>\n",
       "      <td>2023-01-07</td>\n",
       "      <td>6</td>\n",
       "    </tr>\n",
       "    <tr>\n",
       "      <th>7</th>\n",
       "      <td>2023-01-08</td>\n",
       "      <td>7</td>\n",
       "    </tr>\n",
       "    <tr>\n",
       "      <th>8</th>\n",
       "      <td>2023-01-09</td>\n",
       "      <td>1</td>\n",
       "    </tr>\n",
       "    <tr>\n",
       "      <th>9</th>\n",
       "      <td>2023-01-10</td>\n",
       "      <td>9</td>\n",
       "    </tr>\n",
       "    <tr>\n",
       "      <th>10</th>\n",
       "      <td>2023-01-11</td>\n",
       "      <td>1</td>\n",
       "    </tr>\n",
       "    <tr>\n",
       "      <th>11</th>\n",
       "      <td>2023-01-12</td>\n",
       "      <td>6</td>\n",
       "    </tr>\n",
       "    <tr>\n",
       "      <th>12</th>\n",
       "      <td>2023-01-13</td>\n",
       "      <td>4</td>\n",
       "    </tr>\n",
       "    <tr>\n",
       "      <th>13</th>\n",
       "      <td>2023-01-14</td>\n",
       "      <td>9</td>\n",
       "    </tr>\n",
       "    <tr>\n",
       "      <th>14</th>\n",
       "      <td>2023-01-15</td>\n",
       "      <td>9</td>\n",
       "    </tr>\n",
       "    <tr>\n",
       "      <th>15</th>\n",
       "      <td>2023-01-16</td>\n",
       "      <td>5</td>\n",
       "    </tr>\n",
       "    <tr>\n",
       "      <th>16</th>\n",
       "      <td>2023-01-17</td>\n",
       "      <td>8</td>\n",
       "    </tr>\n",
       "    <tr>\n",
       "      <th>17</th>\n",
       "      <td>2023-01-18</td>\n",
       "      <td>4</td>\n",
       "    </tr>\n",
       "    <tr>\n",
       "      <th>18</th>\n",
       "      <td>2023-01-19</td>\n",
       "      <td>2</td>\n",
       "    </tr>\n",
       "    <tr>\n",
       "      <th>19</th>\n",
       "      <td>2023-01-20</td>\n",
       "      <td>0</td>\n",
       "    </tr>\n",
       "    <tr>\n",
       "      <th>20</th>\n",
       "      <td>2023-01-21</td>\n",
       "      <td>7</td>\n",
       "    </tr>\n",
       "    <tr>\n",
       "      <th>21</th>\n",
       "      <td>2023-01-22</td>\n",
       "      <td>1</td>\n",
       "    </tr>\n",
       "    <tr>\n",
       "      <th>22</th>\n",
       "      <td>2023-01-23</td>\n",
       "      <td>6</td>\n",
       "    </tr>\n",
       "    <tr>\n",
       "      <th>23</th>\n",
       "      <td>2023-01-24</td>\n",
       "      <td>4</td>\n",
       "    </tr>\n",
       "    <tr>\n",
       "      <th>24</th>\n",
       "      <td>2023-01-25</td>\n",
       "      <td>1</td>\n",
       "    </tr>\n",
       "    <tr>\n",
       "      <th>25</th>\n",
       "      <td>2023-01-26</td>\n",
       "      <td>2</td>\n",
       "    </tr>\n",
       "    <tr>\n",
       "      <th>26</th>\n",
       "      <td>2023-01-27</td>\n",
       "      <td>5</td>\n",
       "    </tr>\n",
       "    <tr>\n",
       "      <th>27</th>\n",
       "      <td>2023-01-28</td>\n",
       "      <td>8</td>\n",
       "    </tr>\n",
       "    <tr>\n",
       "      <th>28</th>\n",
       "      <td>2023-01-29</td>\n",
       "      <td>4</td>\n",
       "    </tr>\n",
       "    <tr>\n",
       "      <th>29</th>\n",
       "      <td>2023-01-30</td>\n",
       "      <td>6</td>\n",
       "    </tr>\n",
       "    <tr>\n",
       "      <th>30</th>\n",
       "      <td>2023-01-31</td>\n",
       "      <td>0</td>\n",
       "    </tr>\n",
       "    <tr>\n",
       "      <th>31</th>\n",
       "      <td>2023-02-01</td>\n",
       "      <td>8</td>\n",
       "    </tr>\n",
       "    <tr>\n",
       "      <th>32</th>\n",
       "      <td>2023-02-02</td>\n",
       "      <td>0</td>\n",
       "    </tr>\n",
       "    <tr>\n",
       "      <th>33</th>\n",
       "      <td>2023-02-03</td>\n",
       "      <td>8</td>\n",
       "    </tr>\n",
       "    <tr>\n",
       "      <th>34</th>\n",
       "      <td>2023-02-04</td>\n",
       "      <td>7</td>\n",
       "    </tr>\n",
       "    <tr>\n",
       "      <th>35</th>\n",
       "      <td>2023-02-05</td>\n",
       "      <td>0</td>\n",
       "    </tr>\n",
       "    <tr>\n",
       "      <th>36</th>\n",
       "      <td>2023-02-06</td>\n",
       "      <td>5</td>\n",
       "    </tr>\n",
       "    <tr>\n",
       "      <th>37</th>\n",
       "      <td>2023-02-07</td>\n",
       "      <td>2</td>\n",
       "    </tr>\n",
       "    <tr>\n",
       "      <th>38</th>\n",
       "      <td>2023-02-08</td>\n",
       "      <td>6</td>\n",
       "    </tr>\n",
       "    <tr>\n",
       "      <th>39</th>\n",
       "      <td>2023-02-09</td>\n",
       "      <td>0</td>\n",
       "    </tr>\n",
       "    <tr>\n",
       "      <th>40</th>\n",
       "      <td>2023-02-10</td>\n",
       "      <td>6</td>\n",
       "    </tr>\n",
       "    <tr>\n",
       "      <th>41</th>\n",
       "      <td>2023-02-11</td>\n",
       "      <td>4</td>\n",
       "    </tr>\n",
       "    <tr>\n",
       "      <th>42</th>\n",
       "      <td>2023-02-12</td>\n",
       "      <td>4</td>\n",
       "    </tr>\n",
       "    <tr>\n",
       "      <th>43</th>\n",
       "      <td>2023-02-13</td>\n",
       "      <td>9</td>\n",
       "    </tr>\n",
       "    <tr>\n",
       "      <th>44</th>\n",
       "      <td>2023-02-14</td>\n",
       "      <td>0</td>\n",
       "    </tr>\n",
       "    <tr>\n",
       "      <th>45</th>\n",
       "      <td>2023-02-15</td>\n",
       "      <td>1</td>\n",
       "    </tr>\n",
       "    <tr>\n",
       "      <th>46</th>\n",
       "      <td>2023-02-16</td>\n",
       "      <td>0</td>\n",
       "    </tr>\n",
       "    <tr>\n",
       "      <th>47</th>\n",
       "      <td>2023-02-17</td>\n",
       "      <td>4</td>\n",
       "    </tr>\n",
       "    <tr>\n",
       "      <th>48</th>\n",
       "      <td>2023-02-18</td>\n",
       "      <td>5</td>\n",
       "    </tr>\n",
       "    <tr>\n",
       "      <th>49</th>\n",
       "      <td>2023-02-19</td>\n",
       "      <td>8</td>\n",
       "    </tr>\n",
       "  </tbody>\n",
       "</table>\n",
       "</div>"
      ],
      "text/plain": [
       "         Date  Values\n",
       "0  2023-01-01       1\n",
       "1  2023-01-02       2\n",
       "2  2023-01-03       9\n",
       "3  2023-01-04       2\n",
       "4  2023-01-05       2\n",
       "5  2023-01-06       4\n",
       "6  2023-01-07       6\n",
       "7  2023-01-08       7\n",
       "8  2023-01-09       1\n",
       "9  2023-01-10       9\n",
       "10 2023-01-11       1\n",
       "11 2023-01-12       6\n",
       "12 2023-01-13       4\n",
       "13 2023-01-14       9\n",
       "14 2023-01-15       9\n",
       "15 2023-01-16       5\n",
       "16 2023-01-17       8\n",
       "17 2023-01-18       4\n",
       "18 2023-01-19       2\n",
       "19 2023-01-20       0\n",
       "20 2023-01-21       7\n",
       "21 2023-01-22       1\n",
       "22 2023-01-23       6\n",
       "23 2023-01-24       4\n",
       "24 2023-01-25       1\n",
       "25 2023-01-26       2\n",
       "26 2023-01-27       5\n",
       "27 2023-01-28       8\n",
       "28 2023-01-29       4\n",
       "29 2023-01-30       6\n",
       "30 2023-01-31       0\n",
       "31 2023-02-01       8\n",
       "32 2023-02-02       0\n",
       "33 2023-02-03       8\n",
       "34 2023-02-04       7\n",
       "35 2023-02-05       0\n",
       "36 2023-02-06       5\n",
       "37 2023-02-07       2\n",
       "38 2023-02-08       6\n",
       "39 2023-02-09       0\n",
       "40 2023-02-10       6\n",
       "41 2023-02-11       4\n",
       "42 2023-02-12       4\n",
       "43 2023-02-13       9\n",
       "44 2023-02-14       0\n",
       "45 2023-02-15       1\n",
       "46 2023-02-16       0\n",
       "47 2023-02-17       4\n",
       "48 2023-02-18       5\n",
       "49 2023-02-19       8"
      ]
     },
     "execution_count": 24,
     "metadata": {},
     "output_type": "execute_result"
    }
   ],
   "source": [
    "df"
   ]
  },
  {
   "cell_type": "markdown",
   "id": "2d0f20e8-1153-4814-8b47-97b56791f127",
   "metadata": {},
   "source": [
    "call this function by passing in your DataFrame df as an argument, like this:"
   ]
  },
  {
   "cell_type": "code",
   "execution_count": 25,
   "id": "33aec5d4-1e53-43f8-a663-d9ac824618dd",
   "metadata": {},
   "outputs": [],
   "source": [
    "selected_df = select_rows_between_dates(df)\n"
   ]
  },
  {
   "cell_type": "code",
   "execution_count": 26,
   "id": "5e2207eb-b46d-449c-a30d-1ab300660f4b",
   "metadata": {},
   "outputs": [
    {
     "data": {
      "text/html": [
       "<div>\n",
       "<style scoped>\n",
       "    .dataframe tbody tr th:only-of-type {\n",
       "        vertical-align: middle;\n",
       "    }\n",
       "\n",
       "    .dataframe tbody tr th {\n",
       "        vertical-align: top;\n",
       "    }\n",
       "\n",
       "    .dataframe thead th {\n",
       "        text-align: right;\n",
       "    }\n",
       "</style>\n",
       "<table border=\"1\" class=\"dataframe\">\n",
       "  <thead>\n",
       "    <tr style=\"text-align: right;\">\n",
       "      <th></th>\n",
       "      <th>Date</th>\n",
       "      <th>Values</th>\n",
       "    </tr>\n",
       "  </thead>\n",
       "  <tbody>\n",
       "    <tr>\n",
       "      <th>0</th>\n",
       "      <td>2023-01-01</td>\n",
       "      <td>1</td>\n",
       "    </tr>\n",
       "    <tr>\n",
       "      <th>1</th>\n",
       "      <td>2023-01-02</td>\n",
       "      <td>2</td>\n",
       "    </tr>\n",
       "    <tr>\n",
       "      <th>2</th>\n",
       "      <td>2023-01-03</td>\n",
       "      <td>9</td>\n",
       "    </tr>\n",
       "    <tr>\n",
       "      <th>3</th>\n",
       "      <td>2023-01-04</td>\n",
       "      <td>2</td>\n",
       "    </tr>\n",
       "    <tr>\n",
       "      <th>4</th>\n",
       "      <td>2023-01-05</td>\n",
       "      <td>2</td>\n",
       "    </tr>\n",
       "    <tr>\n",
       "      <th>5</th>\n",
       "      <td>2023-01-06</td>\n",
       "      <td>4</td>\n",
       "    </tr>\n",
       "    <tr>\n",
       "      <th>6</th>\n",
       "      <td>2023-01-07</td>\n",
       "      <td>6</td>\n",
       "    </tr>\n",
       "    <tr>\n",
       "      <th>7</th>\n",
       "      <td>2023-01-08</td>\n",
       "      <td>7</td>\n",
       "    </tr>\n",
       "    <tr>\n",
       "      <th>8</th>\n",
       "      <td>2023-01-09</td>\n",
       "      <td>1</td>\n",
       "    </tr>\n",
       "    <tr>\n",
       "      <th>9</th>\n",
       "      <td>2023-01-10</td>\n",
       "      <td>9</td>\n",
       "    </tr>\n",
       "    <tr>\n",
       "      <th>10</th>\n",
       "      <td>2023-01-11</td>\n",
       "      <td>1</td>\n",
       "    </tr>\n",
       "    <tr>\n",
       "      <th>11</th>\n",
       "      <td>2023-01-12</td>\n",
       "      <td>6</td>\n",
       "    </tr>\n",
       "    <tr>\n",
       "      <th>12</th>\n",
       "      <td>2023-01-13</td>\n",
       "      <td>4</td>\n",
       "    </tr>\n",
       "    <tr>\n",
       "      <th>13</th>\n",
       "      <td>2023-01-14</td>\n",
       "      <td>9</td>\n",
       "    </tr>\n",
       "    <tr>\n",
       "      <th>14</th>\n",
       "      <td>2023-01-15</td>\n",
       "      <td>9</td>\n",
       "    </tr>\n",
       "    <tr>\n",
       "      <th>15</th>\n",
       "      <td>2023-01-16</td>\n",
       "      <td>5</td>\n",
       "    </tr>\n",
       "    <tr>\n",
       "      <th>16</th>\n",
       "      <td>2023-01-17</td>\n",
       "      <td>8</td>\n",
       "    </tr>\n",
       "    <tr>\n",
       "      <th>17</th>\n",
       "      <td>2023-01-18</td>\n",
       "      <td>4</td>\n",
       "    </tr>\n",
       "    <tr>\n",
       "      <th>18</th>\n",
       "      <td>2023-01-19</td>\n",
       "      <td>2</td>\n",
       "    </tr>\n",
       "    <tr>\n",
       "      <th>19</th>\n",
       "      <td>2023-01-20</td>\n",
       "      <td>0</td>\n",
       "    </tr>\n",
       "    <tr>\n",
       "      <th>20</th>\n",
       "      <td>2023-01-21</td>\n",
       "      <td>7</td>\n",
       "    </tr>\n",
       "    <tr>\n",
       "      <th>21</th>\n",
       "      <td>2023-01-22</td>\n",
       "      <td>1</td>\n",
       "    </tr>\n",
       "    <tr>\n",
       "      <th>22</th>\n",
       "      <td>2023-01-23</td>\n",
       "      <td>6</td>\n",
       "    </tr>\n",
       "    <tr>\n",
       "      <th>23</th>\n",
       "      <td>2023-01-24</td>\n",
       "      <td>4</td>\n",
       "    </tr>\n",
       "    <tr>\n",
       "      <th>24</th>\n",
       "      <td>2023-01-25</td>\n",
       "      <td>1</td>\n",
       "    </tr>\n",
       "    <tr>\n",
       "      <th>25</th>\n",
       "      <td>2023-01-26</td>\n",
       "      <td>2</td>\n",
       "    </tr>\n",
       "    <tr>\n",
       "      <th>26</th>\n",
       "      <td>2023-01-27</td>\n",
       "      <td>5</td>\n",
       "    </tr>\n",
       "    <tr>\n",
       "      <th>27</th>\n",
       "      <td>2023-01-28</td>\n",
       "      <td>8</td>\n",
       "    </tr>\n",
       "    <tr>\n",
       "      <th>28</th>\n",
       "      <td>2023-01-29</td>\n",
       "      <td>4</td>\n",
       "    </tr>\n",
       "    <tr>\n",
       "      <th>29</th>\n",
       "      <td>2023-01-30</td>\n",
       "      <td>6</td>\n",
       "    </tr>\n",
       "    <tr>\n",
       "      <th>30</th>\n",
       "      <td>2023-01-31</td>\n",
       "      <td>0</td>\n",
       "    </tr>\n",
       "  </tbody>\n",
       "</table>\n",
       "</div>"
      ],
      "text/plain": [
       "         Date  Values\n",
       "0  2023-01-01       1\n",
       "1  2023-01-02       2\n",
       "2  2023-01-03       9\n",
       "3  2023-01-04       2\n",
       "4  2023-01-05       2\n",
       "5  2023-01-06       4\n",
       "6  2023-01-07       6\n",
       "7  2023-01-08       7\n",
       "8  2023-01-09       1\n",
       "9  2023-01-10       9\n",
       "10 2023-01-11       1\n",
       "11 2023-01-12       6\n",
       "12 2023-01-13       4\n",
       "13 2023-01-14       9\n",
       "14 2023-01-15       9\n",
       "15 2023-01-16       5\n",
       "16 2023-01-17       8\n",
       "17 2023-01-18       4\n",
       "18 2023-01-19       2\n",
       "19 2023-01-20       0\n",
       "20 2023-01-21       7\n",
       "21 2023-01-22       1\n",
       "22 2023-01-23       6\n",
       "23 2023-01-24       4\n",
       "24 2023-01-25       1\n",
       "25 2023-01-26       2\n",
       "26 2023-01-27       5\n",
       "27 2023-01-28       8\n",
       "28 2023-01-29       4\n",
       "29 2023-01-30       6\n",
       "30 2023-01-31       0"
      ]
     },
     "execution_count": 26,
     "metadata": {},
     "output_type": "execute_result"
    }
   ],
   "source": [
    "selected_df"
   ]
  },
  {
   "cell_type": "markdown",
   "id": "91a9739b-a56c-4ff0-b0ad-f0ccde897beb",
   "metadata": {},
   "source": [
    "![green-divider](https://user-images.githubusercontent.com/7065401/52071924-c003ad80-2562-11e9-8297-1c6595f8a7ff.png)"
   ]
  },
  {
   "cell_type": "markdown",
   "id": "407c853b-e3d8-4b5a-93cb-31a45c7e0a15",
   "metadata": {},
   "source": [
    "## Q13. To use the basic functions of pandas, what is the first and foremost necessary library that needs to be imported?"
   ]
  },
  {
   "cell_type": "markdown",
   "id": "60bfaaa4-816f-4fe8-9915-20b86bbbe85c",
   "metadata": {},
   "source": [
    "### Answer:\n",
    "The first and foremost necessary library that needs to be imported to use the basic functions of `pandas` is pandas itself. It is conventionally imported with the alias pd, as follows:"
   ]
  },
  {
   "cell_type": "code",
   "execution_count": 27,
   "id": "390bcb6d-e3b5-4e7b-82e2-7b64f6e0e537",
   "metadata": {},
   "outputs": [],
   "source": [
    "import pandas as pd\n"
   ]
  },
  {
   "cell_type": "markdown",
   "id": "e053b20c-eb7d-4639-83a1-dd87246b1506",
   "metadata": {},
   "source": [
    "This allows us to access all the functions and classes in the pandas library using the `pd` prefix, for example `pd.DataFrame`, `pd.read_csv`, etc."
   ]
  },
  {
   "cell_type": "markdown",
   "id": "53addf7d-bd29-462d-ab45-54d26a808b4b",
   "metadata": {},
   "source": [
    "![purple-divider](https://user-images.githubusercontent.com/7065401/52071927-c1cd7100-2562-11e9-908a-dde91ba14e59.png)"
   ]
  },
  {
   "cell_type": "code",
   "execution_count": null,
   "id": "52461574-dc5e-4a3d-ae12-3db497cf21dc",
   "metadata": {},
   "outputs": [],
   "source": []
  }
 ],
 "metadata": {
  "kernelspec": {
   "display_name": "Python 3 (ipykernel)",
   "language": "python",
   "name": "python3"
  },
  "language_info": {
   "codemirror_mode": {
    "name": "ipython",
    "version": 3
   },
   "file_extension": ".py",
   "mimetype": "text/x-python",
   "name": "python",
   "nbconvert_exporter": "python",
   "pygments_lexer": "ipython3",
   "version": "3.10.8"
  }
 },
 "nbformat": 4,
 "nbformat_minor": 5
}
