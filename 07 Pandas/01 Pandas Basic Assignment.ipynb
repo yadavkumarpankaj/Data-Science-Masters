{
 "cells": [
  {
   "cell_type": "markdown",
   "id": "3fac2f0d-7dc5-4483-80b1-fde0c62f712a",
   "metadata": {},
   "source": [
    "[<img src=\"https://user-images.githubusercontent.com/104052797/227734220-c880c683-a61d-41d7-8595-017d1feae370.jpg\" alt=\"Pankaj Kumar Yadav\" style=\"width: 300px; height: auto;\">](https://www.linkedin.com/in/pankaj-kr-yadav/) &copy; 2023 `Pankaj Kumar Yadav`. All rights reserved.\n",
    "\n",
    "----"
   ]
  },
  {
   "cell_type": "markdown",
   "id": "eeaa96fb-f01a-4d9d-b99b-be61437e295f",
   "metadata": {},
   "source": [
    "# 📍 01 Pandas Basic 📍"
   ]
  },
  {
   "cell_type": "markdown",
   "id": "5fa83d1a-9b63-4152-9beb-4131c5c908ae",
   "metadata": {},
   "source": [
    "![purple-divider](https://user-images.githubusercontent.com/7065401/52071927-c1cd7100-2562-11e9-908a-dde91ba14e59.png)"
   ]
  },
  {
   "cell_type": "markdown",
   "id": "56410db6-7d81-4b49-a87d-6e539ef34ee2",
   "metadata": {},
   "source": [
    "## Q1. Create a Pandas Series that contains the following data: 4, 8, 15, 16, 23, and 42. Then, print the series."
   ]
  },
  {
   "cell_type": "markdown",
   "id": "6934ce43-678a-41b5-b30a-35a9ac3393d8",
   "metadata": {},
   "source": [
    "### Answer:\n",
    "\n"
   ]
  },
  {
   "cell_type": "code",
   "execution_count": null,
   "id": "ee0708f4-b9f6-494f-818a-61d1a07918c0",
   "metadata": {},
   "outputs": [],
   "source": [
    "# import pandas to do all task\n",
    "import pandas as pd"
   ]
  },
  {
   "cell_type": "code",
   "execution_count": null,
   "id": "8eb463f0-d5b5-49a9-bee9-008b97e33446",
   "metadata": {},
   "outputs": [],
   "source": [
    "data_q1 = [4,8,15,16,23,42]\n",
    "df_q1 = pd.Series(data)"
   ]
  },
  {
   "cell_type": "code",
   "execution_count": null,
   "id": "2ab2965b-c3cc-4b55-acac-62e97acacd38",
   "metadata": {},
   "outputs": [],
   "source": [
    "df_q1"
   ]
  },
  {
   "cell_type": "code",
   "execution_count": null,
   "id": "eab2baaf-e421-47f0-9f41-4dd898d38029",
   "metadata": {},
   "outputs": [],
   "source": [
    "type(df_q1)"
   ]
  },
  {
   "cell_type": "markdown",
   "id": "4db76bd3-51f5-4b4c-b2dc-a92d567bf683",
   "metadata": {},
   "source": [
    "![green-divider](https://user-images.githubusercontent.com/7065401/52071924-c003ad80-2562-11e9-8297-1c6595f8a7ff.png)"
   ]
  },
  {
   "cell_type": "markdown",
   "id": "f45ae403-430d-4853-a25a-b992419c2b54",
   "metadata": {},
   "source": [
    "## Q2. Create a variable of list type containing 10 elements in it, and apply pandas.Series function on the variable print it."
   ]
  },
  {
   "cell_type": "markdown",
   "id": "7cae6815-5e0a-4226-86b4-02074ff551b8",
   "metadata": {},
   "source": [
    "## Answer:"
   ]
  },
  {
   "cell_type": "code",
   "execution_count": null,
   "id": "9186d976-1413-44b3-97b0-6883bfc630ac",
   "metadata": {},
   "outputs": [],
   "source": [
    "data_q2 = list(range(2,22,2))\n",
    "data_q2"
   ]
  },
  {
   "cell_type": "code",
   "execution_count": null,
   "id": "8850494a-c6de-4b07-975a-45bee69890fa",
   "metadata": {},
   "outputs": [],
   "source": [
    "len(data_q2)"
   ]
  },
  {
   "cell_type": "code",
   "execution_count": null,
   "id": "288fda9b-545b-443b-bdc9-c50e0199403f",
   "metadata": {},
   "outputs": [],
   "source": [
    "df_q2 = pd.Series(data_q2)"
   ]
  },
  {
   "cell_type": "code",
   "execution_count": null,
   "id": "597b9b56-80fd-425b-b9c8-fb394844f6e3",
   "metadata": {},
   "outputs": [],
   "source": [
    "df_q2"
   ]
  },
  {
   "cell_type": "code",
   "execution_count": null,
   "id": "beeab8db-04b6-48dc-9ce5-3a24ad07c601",
   "metadata": {},
   "outputs": [],
   "source": [
    "type(df_q2)"
   ]
  },
  {
   "cell_type": "markdown",
   "id": "57e82a47-fb5d-4d44-bfae-d4ff23a7ddf3",
   "metadata": {},
   "source": [
    "![green-divider](https://user-images.githubusercontent.com/7065401/52071924-c003ad80-2562-11e9-8297-1c6595f8a7ff.png)"
   ]
  },
  {
   "cell_type": "markdown",
   "id": "c8008d0f-7501-4e5f-9fd6-d8db9041ca57",
   "metadata": {},
   "source": [
    "## Q3. Create a Pandas DataFrame that contains the following data:\n",
    "\n",
    "|  Name  | Age | Gender |\n",
    "|:------:|:---:|:------:|\n",
    "|  Alice |  25 | Female |\n",
    "|   Bob  |  30 |  Male  |\n",
    "| Claire |  27 | Female |\n",
    "\n",
    "## Then, print the DataFrame."
   ]
  },
  {
   "cell_type": "markdown",
   "id": "1c53df63-347f-47b6-ac65-0ece4c226e2b",
   "metadata": {},
   "source": [
    "### Answer:"
   ]
  },
  {
   "cell_type": "code",
   "execution_count": null,
   "id": "248c6f2b-b025-44a2-bbad-6b7293f5843a",
   "metadata": {},
   "outputs": [],
   "source": [
    "# Create the data\n",
    "data_q3 = {\"Name\":['Alice','Bob','Claire'],\n",
    "           \"Age\" :[25,30,27],\n",
    "           \"Gender\" :['Female','Male','Female']\n",
    "            }\n",
    "\n",
    "# Create the DataFrame\n",
    "df_q3 = pd.DataFrame(data_q3)\n",
    "\n",
    "# Print the DataFrame\n",
    "df_q3"
   ]
  },
  {
   "cell_type": "markdown",
   "id": "ab67260d-c894-41a3-8d9b-5f1f4f1d9abe",
   "metadata": {},
   "source": [
    "![green-divider](https://user-images.githubusercontent.com/7065401/52071924-c003ad80-2562-11e9-8297-1c6595f8a7ff.png)"
   ]
  },
  {
   "cell_type": "markdown",
   "id": "4ba2e547-5b1f-4832-af51-3d3e166d4bd4",
   "metadata": {},
   "source": [
    "## Q4. What is ‘DataFrame’ in pandas and how is it different from pandas.series? Explain with an example."
   ]
  },
  {
   "cell_type": "markdown",
   "id": "b633df9f-b836-40b5-b08a-5e57e2fd69ba",
   "metadata": {},
   "source": [
    "### Answer:\n",
    "\n",
    "In pandas, a `DataFrame` is a 2-dimensional labeled data structure with columns of potentially different data types, whereas a `Series` is a one-dimensional labeled array that can hold any data type.\n",
    "\n",
    "A `DataFrame` can be thought of as a table with rows and columns, similar to a spreadsheet or SQL table, where each column can be considered as a `Series`. Each column of the DataFrame can have a different data type, such as integers, floats, or strings. \n",
    "\n",
    "The `DataFrame` also has row labels, called the index, which can be used to access and manipulate the data in the `DataFrame`.\n",
    "\n",
    "On the other hand, a `Series` is a one-dimensional labeled array that can hold any data type, such as integers, floats, or strings. Each element in the `Series` has a label, called the index, which can be used to access and manipulate the data in the `Series`.\n",
    "\n",
    "Here's an example that illustrates the difference between a `DataFrame` and a `Series`:"
   ]
  },
  {
   "cell_type": "code",
   "execution_count": null,
   "id": "78434040-b9bc-4b4f-bec7-9a203347d7ba",
   "metadata": {},
   "outputs": [],
   "source": [
    "# Create a Series \n",
    "s = pd.Series([2,3,5,4,56,23],name='Numbers')\n",
    "\n",
    "# Create a DataFrame \n",
    "data = {'Name' : ['Alice','Pankaj','Pawan'],\n",
    "        'Age' : [34 , 23 , 17],\n",
    "        'Gender' : ['Female','Male','Male']\n",
    "        }\n",
    "\n",
    "df = pd.DataFrame(data)"
   ]
  },
  {
   "cell_type": "code",
   "execution_count": null,
   "id": "e6ab0a67-bb3c-4072-98e6-e799ccb4240b",
   "metadata": {},
   "outputs": [],
   "source": [
    "# Print the Series and DataFrame\n",
    "print(s)\n",
    "print('\\n')\n",
    "print(df)"
   ]
  },
  {
   "cell_type": "markdown",
   "id": "10531145-c96b-49c8-a794-4c71ec759d38",
   "metadata": {},
   "source": [
    "In the above example, we have created a `Series` named `s` that contains some numbers, and a `DataFrame` named `df` that contains information about some people. The Series has a single column of data and is one-dimensional, while the `DataFrame` has three columns of data and is two-dimensional.\n",
    "\n",
    "In summary, a `DataFrame` is a 2-dimensional labeled data structure with columns of potentially different data types, while a `Series` is a one-dimensional labeled array that can hold any data type. A `DataFrame` can be thought of as a collection of `Series`, with each column of the `DataFrame` being a `Series`."
   ]
  },
  {
   "cell_type": "markdown",
   "id": "c97813f8-395d-4b52-97b9-f778369771b5",
   "metadata": {},
   "source": [
    "![green-divider](https://user-images.githubusercontent.com/7065401/52071924-c003ad80-2562-11e9-8297-1c6595f8a7ff.png)"
   ]
  },
  {
   "cell_type": "markdown",
   "id": "0bc9b5eb-138e-448b-8097-3324cc3abc64",
   "metadata": {},
   "source": [
    "## Q5. What are some common functions you can use to manipulate data in a Pandas DataFrame? Can you give an example of when you might use one of these functions?"
   ]
  },
  {
   "cell_type": "markdown",
   "id": "f82bc317-5d07-408b-ae4b-94fdb513d83e",
   "metadata": {},
   "source": [
    "### Answer:\n",
    "\n",
    "Pandas provides a wide range of functions that can be used to manipulate data in a DataFrame. Here are some commonly used functions:\n",
    "\n",
    "1. `head()`: Returns the first n rows of the DataFrame. This function is useful to quickly check the contents of the DataFrame."
   ]
  },
  {
   "cell_type": "code",
   "execution_count": null,
   "id": "bb6c139c-23a0-467c-a0d1-c4c46597a31f",
   "metadata": {},
   "outputs": [],
   "source": [
    "df_q5 = pd.read_csv(\"https://raw.githubusercontent.com/datasciencedojo/datasets/master/titanic.csv\")"
   ]
  },
  {
   "cell_type": "code",
   "execution_count": null,
   "id": "5f647580-fb0b-4919-91b5-c96790f774e4",
   "metadata": {},
   "outputs": [],
   "source": [
    "df_q5.head()"
   ]
  },
  {
   "cell_type": "markdown",
   "id": "5d9aa970-0156-4be3-a863-289dd3ebe493",
   "metadata": {},
   "source": [
    "2. `tail()`: Returns the last n rows of the DataFrame. This function is useful to quickly check the contents of the DataFrame."
   ]
  },
  {
   "cell_type": "code",
   "execution_count": null,
   "id": "8027b120-7a7c-4185-88b1-00fff481eff2",
   "metadata": {},
   "outputs": [],
   "source": [
    "df_q5.tail()"
   ]
  },
  {
   "cell_type": "markdown",
   "id": "005a6e2c-d4fb-4edf-afce-98cc9830c9dd",
   "metadata": {},
   "source": [
    "3. `describe()`: Generates descriptive statistics of the DataFrame, such as the count, mean, standard deviation, minimum and maximum values, and quartiles. This function is useful to get an overview of the distribution of the data."
   ]
  },
  {
   "cell_type": "code",
   "execution_count": null,
   "id": "8f7c1303-9b2a-4785-a11b-2ea5899b4ea6",
   "metadata": {},
   "outputs": [],
   "source": [
    "df_q5.describe()"
   ]
  },
  {
   "cell_type": "markdown",
   "id": "c8f380c7-3f20-4542-8b6b-0d74360a3a12",
   "metadata": {},
   "source": [
    "4. `drop()`: Removes rows or columns from the DataFrame based on a specified index or label. This function is useful to remove irrelevant or incomplete data from the DataFrame."
   ]
  },
  {
   "cell_type": "code",
   "execution_count": null,
   "id": "c6cc5ae8-786a-48f7-ad8c-7bfdb7f37766",
   "metadata": {},
   "outputs": [],
   "source": [
    "df_q5 = df_q5.drop(index=[1,3,5]) #remove rows with index 1,3,5\n",
    "\n",
    "df_q5"
   ]
  },
  {
   "cell_type": "code",
   "execution_count": null,
   "id": "a51b9806-2ad0-4fd4-88bd-9d5d9e959fd5",
   "metadata": {},
   "outputs": [],
   "source": [
    "df_col = df_q5.drop(columns =['Cabin']) # remove column Cabin"
   ]
  },
  {
   "cell_type": "code",
   "execution_count": null,
   "id": "4385a351-b021-4ee8-8d04-69bc20da1ea9",
   "metadata": {},
   "outputs": [],
   "source": [
    "df_col"
   ]
  },
  {
   "cell_type": "markdown",
   "id": "d7f43886-6381-4d6c-b9b3-e2d75a759dd9",
   "metadata": {},
   "source": [
    "5. `groupby()`: Groups the DataFrame by one or more columns and applies a function to each group. This function is useful to perform aggregations or transformations on subsets of the data."
   ]
  },
  {
   "cell_type": "code",
   "execution_count": null,
   "id": "58bd4c38-835a-4e83-b19d-6a2f4a43c04b",
   "metadata": {},
   "outputs": [],
   "source": [
    "grouped_df = df_q5.groupby(['Sex']).mean() # calculate the mean age for each gender"
   ]
  },
  {
   "cell_type": "code",
   "execution_count": null,
   "id": "13e545e7-ebfc-4f3a-a26d-9e6ec4068175",
   "metadata": {},
   "outputs": [],
   "source": [
    "grouped_df"
   ]
  },
  {
   "cell_type": "markdown",
   "id": "4aa65e0f-18aa-444e-8830-64e0a6c1a813",
   "metadata": {},
   "source": [
    "These are just a few examples of the functions that can be used to manipulate data in a Pandas DataFrame. The choice of which function to use depends on the specific data analysis task at hand."
   ]
  },
  {
   "cell_type": "markdown",
   "id": "8ff00869-284b-41ab-917d-fa2325c9ffa0",
   "metadata": {},
   "source": [
    "![green-divider](https://user-images.githubusercontent.com/7065401/52071924-c003ad80-2562-11e9-8297-1c6595f8a7ff.png)"
   ]
  },
  {
   "cell_type": "markdown",
   "id": "d1bfd320-3c6e-40d3-899a-d92a2e7bc1cc",
   "metadata": {},
   "source": [
    "## Q6. Which of the following is mutable in nature Series, DataFrame, Panel?"
   ]
  },
  {
   "cell_type": "markdown",
   "id": "3eee695a-4958-4332-aa83-f9e6db6ff04b",
   "metadata": {},
   "source": [
    "### Answer:\n",
    "\n",
    "In Pandas, both `Series` and `DataFrame` are `mutable`, which means that you can modify their values after they have been created. On the other hand, Panel is deprecated since version 0.25.0 and has been replaced by the more general multi-dimensional arrays called `xarray`."
   ]
  },
  {
   "cell_type": "markdown",
   "id": "da47a893-09b0-42f9-9f94-2d334be29c88",
   "metadata": {},
   "source": [
    "![green-divider](https://user-images.githubusercontent.com/7065401/52071924-c003ad80-2562-11e9-8297-1c6595f8a7ff.png)"
   ]
  },
  {
   "cell_type": "markdown",
   "id": "8187bc42-bc2e-472f-9718-5b6edb432ecb",
   "metadata": {},
   "source": [
    "## Q7. Create a DataFrame using multiple Series. Explain with an example."
   ]
  },
  {
   "cell_type": "markdown",
   "id": "40734c45-cbc7-4eea-b567-4ffa9e951578",
   "metadata": {},
   "source": [
    "To create a DataFrame using multiple Series, you can pass the Series as a dictionary to the `pd.DataFrame()` constructor. Each Series will become a column in the resulting DataFrame.\n",
    "\n",
    "Here is an example:"
   ]
  },
  {
   "cell_type": "code",
   "execution_count": null,
   "id": "43bf50d7-8921-4c95-91a3-d9e9b38ced13",
   "metadata": {},
   "outputs": [],
   "source": [
    "names = pd.Series([\"Pankaj\",\"Alice\",\"Pawan\",\"Soma\"])\n",
    "ages = pd.Series([25,30,27,45])\n",
    "genders = pd.Series(['Male','FeMale','Male','Female'])\n",
    "\n",
    "data_q7 = {'Name':names,'Ages':ages,'Gender':genders}\n",
    "\n",
    "df_q7 = pd.DataFrame(data_q7)\n",
    "\n",
    "df_q7"
   ]
  },
  {
   "cell_type": "markdown",
   "id": "2c7d376a-6985-4fb7-a9ac-b94e85f1380b",
   "metadata": {},
   "source": [
    "In this example, we created three Series for the `Name`, `Age`, and `Gender` columns, respectively. We then combined the Series into a dictionary, where the keys are the column names and the values are the Series. Finally, we passed the dictionary to the `pd.DataFrame()` constructor to create the DataFrame."
   ]
  },
  {
   "cell_type": "markdown",
   "id": "599293e3-100a-44dd-bdbe-308764ebb312",
   "metadata": {},
   "source": [
    "![purple-divider](https://user-images.githubusercontent.com/7065401/52071927-c1cd7100-2562-11e9-908a-dde91ba14e59.png)"
   ]
  },
  {
   "cell_type": "code",
   "execution_count": null,
   "id": "564a0028-f3ba-4288-93cf-b0c5108ca812",
   "metadata": {},
   "outputs": [],
   "source": []
  }
 ],
 "metadata": {
  "kernelspec": {
   "display_name": "Python 3 (ipykernel)",
   "language": "python",
   "name": "python3"
  },
  "language_info": {
   "codemirror_mode": {
    "name": "ipython",
    "version": 3
   },
   "file_extension": ".py",
   "mimetype": "text/x-python",
   "name": "python",
   "nbconvert_exporter": "python",
   "pygments_lexer": "ipython3",
   "version": "3.10.8"
  }
 },
 "nbformat": 4,
 "nbformat_minor": 5
}
