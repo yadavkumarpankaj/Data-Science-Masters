{
 "cells": [
  {
   "cell_type": "markdown",
   "id": "f935c427-380e-4319-aebf-f01b12719787",
   "metadata": {},
   "source": [
    "# <center>**📍Statistics Basic-2 Solution📍**</center>"
   ]
  },
  {
   "cell_type": "markdown",
   "id": "c33168ba-c13c-4e9e-842b-87347ae03947",
   "metadata": {},
   "source": [
    "## Q1. What are the three measures of central tendency?"
   ]
  },
  {
   "cell_type": "markdown",
   "id": "3207b3a8-57d4-4ea1-82a6-24208a88dd94",
   "metadata": {},
   "source": [
    "### Answer:\n",
    "The three measures of central tendency are:\n",
    "\n",
    "1. `Mean`: The mean is the sum of all the values in a data set divided by the number of values in the set. It represents the average value of the data set.\n",
    "\n",
    "2. `Median`: The median is the middle value of a data set when the values are arranged in order. If there is an even number of values, the median is the average of the two middle values.\n",
    "\n",
    "3. `Mode`: The mode is the value that appears most frequently in a data set. A data set may have more than one mode, or no mode at all if all values in the set occur with equal frequency."
   ]
  },
  {
   "cell_type": "markdown",
   "id": "f678da46-c3e8-4a81-922c-79c62a6d72f0",
   "metadata": {},
   "source": [
    "## Q2. What is the difference between the mean, median, and mode? How are they used to measure the central tendency of a dataset?"
   ]
  },
  {
   "cell_type": "markdown",
   "id": "56a96515-8f1a-4a0d-a361-6694521082e2",
   "metadata": {},
   "source": [
    "### Answer:\n",
    "\n",
    "The `mean`, `median`, and `mode` are all `measures of central tendency`, but they each represent different aspects of the data set.\n",
    "\n",
    "1. The `mean` is the sum of all the values in a data set divided by the number of values in the set. It is the most commonly used measure of central tendency and is useful when the data is normally distributed. However, it can be sensitive to outliers, which are extreme values that can skew the mean.\n",
    "\n",
    "2. The `median` is the middle value of a data set when the values are arranged in order. It is less sensitive to outliers than the mean, and is therefore useful when the data is skewed. The median is also useful when the data set contains a few extreme values that are significantly different from the rest of the data.\n",
    "\n",
    "3. The `mode` is the value that appears most frequently in a data set. It is useful for identifying the most common value or values in a data set, and is often used with nominal or categorical data where there is no clear numerical order.\n",
    "\n",
    "- To `measure the central tendency` of a data set, you can calculate the mean, median, and mode and compare them. If the mean and median are close together, the data is likely to be normally distributed. If the mean is much larger or smaller than the median, the data may be skewed. If the data set has multiple modes, it may indicate that the data is bimodal or multimodal, which can provide insights into underlying patterns in the data."
   ]
  },
  {
   "cell_type": "markdown",
   "id": "803e71ed-d867-4a2b-a0be-f107f628f6cd",
   "metadata": {},
   "source": [
    "## Q3. Measure the three measures of central tendency for the given height data:\n",
    "`[178,177,176,177,178.2,178,175,179,180,175,178.9,176.2,177,172.5,178,176.5]`"
   ]
  },
  {
   "cell_type": "markdown",
   "id": "cc55cc1b-c697-48d7-a29f-9b512a9e33a1",
   "metadata": {},
   "source": [
    "### Answer:\n",
    "\n",
    "To find the three measures of central tendency for the given height data, we can use the following formulas:\n",
    "\n",
    "1. Mean = (sum of all values) / (number of values)\n",
    "\n",
    "2. Median = the middle value when the values are arranged in order\n",
    "\n",
    "3. Mode = the value(s) that appears most frequently\n",
    "\n",
    "- First, we need to sort the data in ascending order:\n",
    "[172.5, 175, 175, 176, 176.2, 176.5, 177, 177, 178, 178, 178, 178.2, 178.9, 179, 180]\n",
    "\n",
    "`Mean = (sum of all values) / (number of values)`\n",
    "\n",
    "Mean = (2494.3) / (15)\n",
    "\n",
    "Mean = 166.287\n",
    "\n",
    "`Median = the middle value when the values are arranged in order`\n",
    "\n",
    "Median = 177\n",
    "\n",
    "`Mode = the value(s) that appears most frequently`\n",
    "\n",
    "Mode = 178\n",
    "\n",
    "Therefore, the three measures of central tendency for the given height data are:\n",
    "\n",
    "- Mean = 166.287\n",
    "- Median = 177\n",
    "- Mode = 178"
   ]
  },
  {
   "cell_type": "markdown",
   "id": "1c712c39-a624-4dd9-b602-c5d5fd9ae86d",
   "metadata": {},
   "source": [
    "## Q4. Find the standard deviation for the given data:\n",
    "`[178,177,176,177,178.2,178,175,179,180,175,178.9,176.2,177,172.5,178,176.5]`"
   ]
  },
  {
   "cell_type": "markdown",
   "id": "587a740d-9dd8-425c-8ad4-2ccca12e046b",
   "metadata": {},
   "source": [
    "### ANswer:\n",
    "\n",
    "To find the standard deviation for the given data, we can use the following formula:\n",
    "\n",
    "`std = sqrt(variance)`\n",
    "\n",
    "`variance = (1/n-1) * sum((x_i - x̄)^2`\n",
    "\n",
    "where:\n",
    "\n",
    "`std` is the standard deviation\n",
    "\n",
    "`n` is the number of values in the data set\n",
    "\n",
    "`x_i` is each value in the data set\n",
    "\n",
    "`x̄` is the mean of the data set\n",
    "\n",
    "- First, we need to calculate the mean of the data set:\n",
    "\n",
    "`Mean = (sum of all values) / (number of values)`\n",
    "\n",
    "Mean = (2494.3) / (15)\n",
    "\n",
    "Mean = 166.287\n",
    "\n",
    "- Then, we can calculate the deviation of each value from the mean:\n",
    "\n",
    "`Deviation of each value = value - mean`\n",
    "\n",
    "[178-166.287, 177-166.287, 176-166.287, 177-166.287, 178.2-166.287, 178-166.287, 175-166.287, 179-166.287, 180-166.287, 175-166.287, 178.9-166.287, 176.2-166.287, 177-166.287, 172.5-166.287, 178-166.287, 176.5-166.287]\n",
    "\n",
    "`[11.713, 10.713, 9.713, 10.713, 11.913, 11.713, 8.713, 12.713, 13.713, 8.713, 12.613, 9.913, 10.713, 6.213, 11.713, 10.213]`\n",
    "\n",
    "- Next, we can square each deviation:\n",
    "\n",
    "[136.881769, 114.923769, 94.335769, 114.923769, 142.156569, 136.881769, 75.854769, 161.698569, 188.406769, 75.854769, 159.335369, 98.264369, 114.923769, 38.599569, 136.881769, 104.280769]\n",
    "\n",
    "- Then, we can sum up all the squared deviations:\n",
    "\n",
    "`sum of squared deviations = 1923.913`\n",
    "\n",
    "- Next, we can divide the sum of squared deviations by the number of values:\n",
    "\n",
    "`variance = (sum of squared deviations) / (number of values)`\n",
    "\n",
    "variance = 1923.913 / 15\n",
    "variance = 128.260\n",
    "\n",
    "Finally, we can calculate the standard deviation by taking the square root of the variance:\n",
    "\n",
    "`std = sqrt(variance)`\n",
    "\n",
    "s = sqrt(128.260)\n",
    "s = 11.325\n",
    "\n",
    "Therefore, the standard deviation for the given data is approximately `11.32`"
   ]
  },
  {
   "cell_type": "markdown",
   "id": "9680d715-a8a3-47d2-a949-b4b2e3ffb8ee",
   "metadata": {},
   "source": [
    "## Q5. How are measures of dispersion such as range, variance, and standard deviation used to describe the spread of a dataset? Provide an example."
   ]
  },
  {
   "cell_type": "markdown",
   "id": "45b819cf-d708-47fd-a367-f075d0c721be",
   "metadata": {},
   "source": [
    "### Answer:\n",
    "\n",
    "Measures of dispersion, such as range, variance, and standard deviation, are used to describe how spread out or how much variation there is in a dataset.\n",
    "\n",
    "1. `Range` is the simplest measure of dispersion, and it is calculated as the difference between the maximum and minimum values in the dataset. However, it can be affected by outliers and may not always be a reliable measure of dispersion.\n",
    "\n",
    "2. `Variance` is the average of the squared differences between each data point and the mean of the dataset. It provides a more precise measure of the dispersion than range and takes into account every value in the dataset.\n",
    "\n",
    "3. `Standard deviation` is the square root of the variance and it is often used as a standard measure of dispersion because it is expressed in the same units as the data, making it easy to interpret. It also provides a measure of how much the data is likely to deviate from the mean.\n",
    "\n",
    "For example, let's consider two datasets:\n",
    "\n",
    "Dataset A: [1, 2, 3, 4, 5, 6, 7, 8, 9, 10]\n",
    "\n",
    "Dataset B: [1, 2, 3, 4, 5, 30, 35, 40, 45, 50]\n",
    "\n",
    "- Both datasets have the same mean of 5.5, but Dataset B has a much greater range (49 vs. 9) and a much higher variance and standard deviation than Dataset A. \n",
    "- This indicates that the data in Dataset B is more spread out than in Dataset A, and there are some extreme values (30, 35, 40, 45, and 50) that are pulling the average away from the rest of the data.\n",
    "\n",
    "In summary, measures of dispersion are useful in providing information about the spread of data, and can help identify outliers and provide insight into the distribution of the data."
   ]
  },
  {
   "cell_type": "markdown",
   "id": "77f25b3a-698e-4fda-ab09-3b6017c1a926",
   "metadata": {},
   "source": [
    "## Q6. What is a Venn diagram?"
   ]
  },
  {
   "cell_type": "markdown",
   "id": "8356abbe-ec63-48b9-846a-386f8041a02f",
   "metadata": {},
   "source": [
    "### Answer:\n",
    "\n",
    "A Venn diagram is a graphical representation of sets, used to visually depict the relationships between different groups of objects or concepts. It consists of overlapping circles or other shapes that represent each set, with the shared areas indicating the elements that are common to both sets.\n",
    "\n",
    "The diagram was developed by John Venn in the 1880s as a tool for illustrating logical relationships between sets, and it has since become a widely used technique in various fields, including mathematics, statistics, logic, and computer science.\n",
    "\n",
    "Venn diagrams are often used to demonstrate concepts such as the intersection of sets, the union of sets, and the complement of sets. They are also useful for visualizing complex data sets and illustrating relationships between different variables or factors."
   ]
  },
  {
   "cell_type": "markdown",
   "id": "f94b239f-372c-46de-a657-c2b6fc7e814c",
   "metadata": {},
   "source": [
    "## Q7. For the two given sets A = (2,3,4,5,6,7) & B = (0,2,6,8,10). Find:\n",
    "(i) A ∩ B\n",
    "\n",
    "(ii) A ⋃ B"
   ]
  },
  {
   "cell_type": "markdown",
   "id": "4cf71731-bcee-472b-8b6f-2f92559993ca",
   "metadata": {},
   "source": [
    "### Answer:\n",
    "\n",
    "1.  `A ∩ B` represents the `intersection` of sets A and B, which means finding the common elements in both sets. From the given sets A and B, we can see that the common element is 2 and 6. Therefore,\n",
    "\n",
    "A ∩ B = {2, 6}\n",
    "\n",
    "2. `A ⋃ B` represents the `union` of sets A and B, which means combining all the elements from both sets without any repetition. From the given sets A and B, we can see that the combined set contains all the elements from both sets without any repetition. Therefore,\n",
    "\n",
    "A ⋃ B = {0, 2, 3, 4, 5, 6, 7, 8, 10}"
   ]
  },
  {
   "cell_type": "markdown",
   "id": "5aed0729-6eb4-4e22-87ae-5de830d26540",
   "metadata": {},
   "source": [
    "## Q8. What do you understand about skewness in data?"
   ]
  },
  {
   "cell_type": "markdown",
   "id": "aa4cb342-cec8-4496-8d5f-f6d3fed5f7d6",
   "metadata": {},
   "source": [
    "### Answer:\n",
    "\n",
    "Skewness is a statistical term that refers to the degree of asymmetry in a probability distribution. In other words, it measures the extent to which a distribution deviates from a symmetrical or normal distribution.\n",
    "\n",
    "- A perfectly `symmetrical distribution` has zero skewness, which means that the left and right halves of the distribution are mirror images of each other. \n",
    "- A distribution is said to be `positively skewed` if it has a long right tail and a majority of its values are clustered on the left side. In this case, `the mean is greater than the median`. \n",
    "- On the other hand, a distribution is said to be `negatively skewed` if it has a long left tail and a majority of its values are clustered on the right side. In this case, `the mean is less than the median`.\n",
    "\n",
    "Skewness can have important implications for statistical analysis because it can affect the interpretation of measures of central tendency (e.g., mean, median) and dispersion (e.g., standard deviation). It is important to identify and correct for skewness before using statistical tests or models that assume a normal distribution."
   ]
  },
  {
   "cell_type": "markdown",
   "id": "9166ec20-4a66-4bc9-9923-1668fb3d6145",
   "metadata": {},
   "source": [
    "## Q9. If a data is right skewed then what will be the position of median with respect to mean?"
   ]
  },
  {
   "cell_type": "markdown",
   "id": "8d4aa949-15bb-47f1-89f9-545f190cfdb9",
   "metadata": {},
   "source": [
    "### Answer:\n",
    "\n",
    "If a dataset is `right-skewed`, then the median will typically be less than the mean.\n",
    "\n",
    "In a `right-skewed distribution`, the **tail of the distribution is longer on the right side** and there are more extreme values on the right side than on the left. This causes the mean to be pulled towards the right, away from the median.\n",
    "\n",
    "For example, consider the following dataset: {1, 2, 3, 4, 10}. The mean of this dataset is (1+2+3+4+10)/5 = 4, while the median is 3. In this case, the mean is greater than the median, indicating that the dataset is right-skewed.\n",
    "\n",
    "Therefore, if a dataset is right-skewed, the median will typically be less than the mean."
   ]
  },
  {
   "cell_type": "markdown",
   "id": "57129d68-84d6-4437-92c1-dcaeb9e56a10",
   "metadata": {},
   "source": [
    "## Q10. Explain the difference between covariance and correlation. How are these measures used in statistical analysis?"
   ]
  },
  {
   "cell_type": "markdown",
   "id": "fd16bc5d-d172-4836-a8bc-a604547e3555",
   "metadata": {},
   "source": [
    "### Answer:\n",
    "\n",
    "Covariance and correlation are both measures used to describe the relationship between two variables. However, there are some key differences between these measures:\n",
    "\n",
    "1. `Definition`: `Covariance` is a measure of how two variables change together, while `correlation` is a standardized measure of the linear relationship between two variables.\n",
    "\n",
    "2. `Range of values`: `Covariance` can take on any value, including positive, negative, and zero values, while `correlation` always ranges between -1 and 1, with positive values indicating a positive linear relationship, negative values indicating a negative linear relationship, and a value of zero indicating no linear relationship.\n",
    "\n",
    "3. `Units`: Covariance is in the units of the two variables being measured, while correlation is unitless.\n",
    "\n",
    "In statistical analysis, covariance and correlation are both used to determine the strength and direction of the relationship between two variables. However, correlation is typically preferred over covariance because it is a standardized measure that can be compared across different datasets and variables with different units.\n",
    "\n",
    "- `Correlation` is often used to investigate the strength and direction of the linear relationship between two variables. It can be used to identify patterns and relationships in data, as well as to test hypotheses and make predictions. Correlation is commonly used in fields such as finance, economics, psychology, and epidemiology.\n",
    "\n",
    "- `Covariance` is often used in multivariate analysis to examine the relationship between more than two variables. It can also be used to calculate the variance of a sum of variables, and to estimate the parameters of some statistical models. However, because covariance is not standardized, it is less commonly used than correlation in statistical analysis."
   ]
  },
  {
   "cell_type": "markdown",
   "id": "e106b8f3-f5c0-4596-9847-d7ccb860d573",
   "metadata": {},
   "source": [
    "## Q11. What is the formula for calculating the sample mean? Provide an example calculation for a dataset."
   ]
  },
  {
   "cell_type": "markdown",
   "id": "897b035a-148d-44b9-bbd2-898af63e137c",
   "metadata": {},
   "source": [
    "### Answer:\n",
    "\n",
    "The sample mean is calculated by summing all the values in a dataset and then dividing the sum by the number of observations in the dataset. The formula for calculating the sample mean can be written as:\n",
    "\n",
    "`Sample mean = (sum of values) / (number of observations)`\n",
    "\n",
    "For example, suppose we have the following dataset:\n",
    "\n",
    "{10, 20, 30, 40, 50}\n",
    "\n",
    "To calculate the sample mean of this dataset, we first need to find the sum of all the values:\n",
    "\n",
    "sum of values = 10 + 20 + 30 + 40 + 50 = 150\n",
    "\n",
    "Next, we count the number of observations in the dataset:\n",
    "\n",
    "number of observations = 5\n",
    "\n",
    "Finally, we use the formula to calculate the sample mean:\n",
    "\n",
    "Sample mean = (sum of values) / (number of observations) = 150 / 5 = 30\n",
    "\n",
    "Therefore, the sample mean of this dataset is `30`."
   ]
  },
  {
   "cell_type": "markdown",
   "id": "5581aa3d-8714-49f6-ab60-38d530cb7fb6",
   "metadata": {},
   "source": [
    "## Q12. For a normal distribution data what is the relationship between its measure of central tendency?"
   ]
  },
  {
   "cell_type": "markdown",
   "id": "59e6f303-c673-4925-afd7-cbbf155a9fcc",
   "metadata": {},
   "source": [
    "### Answer:\n",
    "For a `normal distribution`, the measures of central tendency (i.e., `mean, median, and mode`) are `equal to each other`. This means that the peak of the distribution (mode), the midpoint of the distribution (median), and the average of all the values in the distribution (mean) all coincide at the same point.\n",
    "\n",
    "This relationship holds true for all normal distributions, regardless of the mean and standard deviation of the distribution. In other words, if a distribution is normal, then the mean, median, and mode will all be the same value.\n",
    "\n",
    "This property of normal distributions is often used in statistical analysis to make inferences and draw conclusions about the underlying population. For example, if a sample of data is normally distributed, then the sample mean, median, and mode can all be used as estimates of the population mean, median, and mode, respectively."
   ]
  },
  {
   "cell_type": "markdown",
   "id": "dd0f6248-feca-4788-b41d-564220960892",
   "metadata": {},
   "source": [
    "## Q13. How is covariance different from correlation?"
   ]
  },
  {
   "cell_type": "markdown",
   "id": "b39974e5-0e49-4412-a7df-a27b77856886",
   "metadata": {},
   "source": [
    "### Answer:\n",
    "\n",
    "Covariance and correlation are both measures used to describe the relationship between two variables. However, there are some key differences between these measures:\n",
    "\n",
    "1. `Definition`: Covariance is a measure of how two variables change together, while correlation is a standardized measure of the linear relationship between two variables.\n",
    "\n",
    "2. `Range of values`: Covariance can take on any value, including positive, negative, and zero values, while correlation always ranges between -1 and 1, with positive values indicating a positive linear relationship, negative values indicating a negative linear relationship, and a value of zero indicating no linear relationship.\n",
    "\n",
    "3. `Units`: Covariance is in the units of the two variables being measured, while correlation is unitless.\n",
    "\n",
    "4. `Interpretation`: Covariance is difficult to interpret because its magnitude depends on the scale of the variables being measured. Correlation, on the other hand, is easier to interpret because it is standardized and ranges between -1 and 1.\n",
    "\n",
    "In summary, covariance measures the degree to which two variables vary together, while correlation measures the degree to which two variables have a linear relationship. Correlation is preferred over covariance in statistical analysis because it is standardized and easier to interpret."
   ]
  },
  {
   "cell_type": "markdown",
   "id": "6c50dada-a280-483d-afa9-aad73e728b28",
   "metadata": {},
   "source": [
    "## Q14. How do outliers affect measures of central tendency and dispersion? Provide an example."
   ]
  },
  {
   "cell_type": "markdown",
   "id": "c4f04c30-824d-4c1a-a6e8-50cbf950bfcf",
   "metadata": {},
   "source": [
    "### Answer:\n",
    "\n",
    "`Outliers` are extreme values that are far away from the rest of the data in a dataset. Outliers can have a significant impact on measures of central tendency and dispersion, such as the mean, median, mode, range, and standard deviation.\n",
    "\n",
    "The effect of outliers on measures of central tendency depends on the direction of the outlier. If an outlier is higher than the rest of the data, it will pull the mean upwards and increase the standard deviation. If an outlier is lower than the rest of the data, it will pull the mean downwards and decrease the standard deviation. However, outliers have little effect on the median and mode, which are less sensitive to extreme values.\n",
    "\n",
    "For example, suppose we have the following dataset:\n",
    "\n",
    "`{10, 20, 30, 40, 50, 1000}`\n",
    "\n",
    "In this dataset, the value `1000` is an outlier because it is much larger than the rest of the data. If we calculate the mean of this dataset, the outlier will have a significant effect on the result:\n",
    "\n",
    "`Mean = (10 + 20 + 30 + 40 + 50 + 1000) / 6 = 183.3`\n",
    "\n",
    "The outlier has pulled the mean upwards and increased the value significantly. If we calculate the median and mode of this dataset, however, the outlier has little effect on the results:\n",
    "\n",
    "`Median = 35`\n",
    "\n",
    "`Mode = There is no mode in this dataset because no value occurs more than once.`\n",
    "\n",
    "Similarly, the presence of outliers can also affect measures of dispersion, such as the range and standard deviation. Outliers can increase the range of the data and make the standard deviation larger, making the data appear more spread out than it actually is.\n",
    "\n",
    "In summary, outliers can have a significant impact on measures of central tendency and dispersion. It is important to identify and deal with outliers appropriately to ensure that statistical analyses are accurate and reliable."
   ]
  },
  {
   "cell_type": "code",
   "execution_count": null,
   "id": "01543b41-f414-43d2-8722-f22af7c20449",
   "metadata": {},
   "outputs": [],
   "source": []
  }
 ],
 "metadata": {
  "kernelspec": {
   "display_name": "Python 3 (ipykernel)",
   "language": "python",
   "name": "python3"
  },
  "language_info": {
   "codemirror_mode": {
    "name": "ipython",
    "version": 3
   },
   "file_extension": ".py",
   "mimetype": "text/x-python",
   "name": "python",
   "nbconvert_exporter": "python",
   "pygments_lexer": "ipython3",
   "version": "3.10.8"
  }
 },
 "nbformat": 4,
 "nbformat_minor": 5
}
